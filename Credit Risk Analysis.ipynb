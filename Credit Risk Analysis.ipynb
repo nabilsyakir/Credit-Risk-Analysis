{
 "cells": [
  {
   "cell_type": "markdown",
   "id": "de368fcc-ae1c-44a2-97e5-262f3d504542",
   "metadata": {},
   "source": [
    "# Rakamin x ID/X Partners VIX End-to-end Solution for Credit Loan"
   ]
  },
  {
   "cell_type": "markdown",
   "id": "8351d045-bcce-44f7-8f84-483833638095",
   "metadata": {},
   "source": [
    "# Introduction\n",
    "\n",
    "__Problem__: We are investors in P2P platforms. There are loans that get charged off in the end. If a loan get charged off or defaulted, we will lost our money. We want to prevent that, and minimize our loss.\n",
    "\n",
    "__Business Metrics__: Loss, net profit margin.\n",
    "\n",
    "__Solution explanation__: We will create a machine learning model that can identify if a loan is potentially bad / risky loan. It can be used as an investment decision tools. For the model, we're gonna use some non-parametrical algorithm (with little assumption) because we are not statistician, and statistics is hard. If our model is reliable, our investment in risky loans will decrease, our loss can be minimized and our net profit margin should increase.\n",
    "\n",
    "__Data__: Lending club credit loan data between 2007 - 2014"
   ]
  },
  {
   "cell_type": "markdown",
   "id": "2e89f9d1-7fe4-4a92-8b93-155d9cf5c69b",
   "metadata": {},
   "source": [
    "# Import Libraries"
   ]
  },
  {
   "cell_type": "code",
   "execution_count": 1,
   "id": "d496ee78-3647-4f78-82cc-01b268ea9c5c",
   "metadata": {},
   "outputs": [],
   "source": [
    "import numpy as np # linear algebra\n",
    "import pandas as pd # data processing, CSV file I/O (e.g. pd.read_csv)\n",
    "import seaborn as sns # cool graph\n",
    "import matplotlib.pyplot as plt # graph\n",
    "\n",
    "from datetime import datetime as dt\n",
    "from collections import defaultdict\n",
    "import time\n",
    "from warnings import filterwarnings\n",
    "filterwarnings('ignore')"
   ]
  },
  {
   "cell_type": "markdown",
   "id": "71381676-f5b5-4297-bfbc-57cb7f080f4c",
   "metadata": {},
   "source": [
    "# Load Data"
   ]
  },
  {
   "cell_type": "code",
   "execution_count": 2,
   "id": "899be502-7003-4a9c-b6af-e54f7ea3ce97",
   "metadata": {},
   "outputs": [],
   "source": [
    "df = pd.read_csv('loan_data_2007_2014.csv', sep=',')"
   ]
  },
  {
   "cell_type": "markdown",
   "id": "13b813d8-25ac-4706-b6a9-bffc610f7743",
   "metadata": {},
   "source": [
    "# Exploring Data"
   ]
  },
  {
   "cell_type": "code",
   "execution_count": 3,
   "id": "093fce67-5c22-42bc-aa4e-2faafbd7c2a4",
   "metadata": {},
   "outputs": [
    {
     "data": {
      "text/plain": [
       "(466285, 75)"
      ]
     },
     "execution_count": 3,
     "metadata": {},
     "output_type": "execute_result"
    }
   ],
   "source": [
    "df.shape"
   ]
  },
  {
   "cell_type": "code",
   "execution_count": 4,
   "id": "2568c82a-0eb8-4182-9fe6-a64451bb9d97",
   "metadata": {},
   "outputs": [
    {
     "name": "stdout",
     "output_type": "stream",
     "text": [
      "<class 'pandas.core.frame.DataFrame'>\n",
      "RangeIndex: 466285 entries, 0 to 466284\n",
      "Data columns (total 75 columns):\n",
      " #   Column                       Non-Null Count   Dtype  \n",
      "---  ------                       --------------   -----  \n",
      " 0   Unnamed: 0                   466285 non-null  int64  \n",
      " 1   id                           466285 non-null  int64  \n",
      " 2   member_id                    466285 non-null  int64  \n",
      " 3   loan_amnt                    466285 non-null  int64  \n",
      " 4   funded_amnt                  466285 non-null  int64  \n",
      " 5   funded_amnt_inv              466285 non-null  float64\n",
      " 6   term                         466285 non-null  object \n",
      " 7   int_rate                     466285 non-null  float64\n",
      " 8   installment                  466285 non-null  float64\n",
      " 9   grade                        466285 non-null  object \n",
      " 10  sub_grade                    466285 non-null  object \n",
      " 11  emp_title                    438697 non-null  object \n",
      " 12  emp_length                   445277 non-null  object \n",
      " 13  home_ownership               466285 non-null  object \n",
      " 14  annual_inc                   466281 non-null  float64\n",
      " 15  verification_status          466285 non-null  object \n",
      " 16  issue_d                      466285 non-null  object \n",
      " 17  loan_status                  466285 non-null  object \n",
      " 18  pymnt_plan                   466285 non-null  object \n",
      " 19  url                          466285 non-null  object \n",
      " 20  desc                         125983 non-null  object \n",
      " 21  purpose                      466285 non-null  object \n",
      " 22  title                        466265 non-null  object \n",
      " 23  zip_code                     466285 non-null  object \n",
      " 24  addr_state                   466285 non-null  object \n",
      " 25  dti                          466285 non-null  float64\n",
      " 26  delinq_2yrs                  466256 non-null  float64\n",
      " 27  earliest_cr_line             466256 non-null  object \n",
      " 28  inq_last_6mths               466256 non-null  float64\n",
      " 29  mths_since_last_delinq       215934 non-null  float64\n",
      " 30  mths_since_last_record       62638 non-null   float64\n",
      " 31  open_acc                     466256 non-null  float64\n",
      " 32  pub_rec                      466256 non-null  float64\n",
      " 33  revol_bal                    466285 non-null  int64  \n",
      " 34  revol_util                   465945 non-null  float64\n",
      " 35  total_acc                    466256 non-null  float64\n",
      " 36  initial_list_status          466285 non-null  object \n",
      " 37  out_prncp                    466285 non-null  float64\n",
      " 38  out_prncp_inv                466285 non-null  float64\n",
      " 39  total_pymnt                  466285 non-null  float64\n",
      " 40  total_pymnt_inv              466285 non-null  float64\n",
      " 41  total_rec_prncp              466285 non-null  float64\n",
      " 42  total_rec_int                466285 non-null  float64\n",
      " 43  total_rec_late_fee           466285 non-null  float64\n",
      " 44  recoveries                   466285 non-null  float64\n",
      " 45  collection_recovery_fee      466285 non-null  float64\n",
      " 46  last_pymnt_d                 465909 non-null  object \n",
      " 47  last_pymnt_amnt              466285 non-null  float64\n",
      " 48  next_pymnt_d                 239071 non-null  object \n",
      " 49  last_credit_pull_d           466243 non-null  object \n",
      " 50  collections_12_mths_ex_med   466140 non-null  float64\n",
      " 51  mths_since_last_major_derog  98974 non-null   float64\n",
      " 52  policy_code                  466285 non-null  int64  \n",
      " 53  application_type             466285 non-null  object \n",
      " 54  annual_inc_joint             0 non-null       float64\n",
      " 55  dti_joint                    0 non-null       float64\n",
      " 56  verification_status_joint    0 non-null       float64\n",
      " 57  acc_now_delinq               466256 non-null  float64\n",
      " 58  tot_coll_amt                 396009 non-null  float64\n",
      " 59  tot_cur_bal                  396009 non-null  float64\n",
      " 60  open_acc_6m                  0 non-null       float64\n",
      " 61  open_il_6m                   0 non-null       float64\n",
      " 62  open_il_12m                  0 non-null       float64\n",
      " 63  open_il_24m                  0 non-null       float64\n",
      " 64  mths_since_rcnt_il           0 non-null       float64\n",
      " 65  total_bal_il                 0 non-null       float64\n",
      " 66  il_util                      0 non-null       float64\n",
      " 67  open_rv_12m                  0 non-null       float64\n",
      " 68  open_rv_24m                  0 non-null       float64\n",
      " 69  max_bal_bc                   0 non-null       float64\n",
      " 70  all_util                     0 non-null       float64\n",
      " 71  total_rev_hi_lim             396009 non-null  float64\n",
      " 72  inq_fi                       0 non-null       float64\n",
      " 73  total_cu_tl                  0 non-null       float64\n",
      " 74  inq_last_12m                 0 non-null       float64\n",
      "dtypes: float64(46), int64(7), object(22)\n",
      "memory usage: 266.8+ MB\n"
     ]
    }
   ],
   "source": [
    "df.info()"
   ]
  },
  {
   "cell_type": "code",
   "execution_count": 5,
   "id": "23762ed9-bbc4-47d8-9825-61b149b1514f",
   "metadata": {},
   "outputs": [
    {
     "data": {
      "text/html": [
       "<div>\n",
       "<style scoped>\n",
       "    .dataframe tbody tr th:only-of-type {\n",
       "        vertical-align: middle;\n",
       "    }\n",
       "\n",
       "    .dataframe tbody tr th {\n",
       "        vertical-align: top;\n",
       "    }\n",
       "\n",
       "    .dataframe thead th {\n",
       "        text-align: right;\n",
       "    }\n",
       "</style>\n",
       "<table border=\"1\" class=\"dataframe\">\n",
       "  <thead>\n",
       "    <tr style=\"text-align: right;\">\n",
       "      <th></th>\n",
       "      <th>Unnamed: 0</th>\n",
       "      <th>id</th>\n",
       "      <th>member_id</th>\n",
       "      <th>loan_amnt</th>\n",
       "      <th>funded_amnt</th>\n",
       "      <th>funded_amnt_inv</th>\n",
       "      <th>term</th>\n",
       "      <th>int_rate</th>\n",
       "      <th>installment</th>\n",
       "      <th>grade</th>\n",
       "      <th>...</th>\n",
       "      <th>total_bal_il</th>\n",
       "      <th>il_util</th>\n",
       "      <th>open_rv_12m</th>\n",
       "      <th>open_rv_24m</th>\n",
       "      <th>max_bal_bc</th>\n",
       "      <th>all_util</th>\n",
       "      <th>total_rev_hi_lim</th>\n",
       "      <th>inq_fi</th>\n",
       "      <th>total_cu_tl</th>\n",
       "      <th>inq_last_12m</th>\n",
       "    </tr>\n",
       "  </thead>\n",
       "  <tbody>\n",
       "    <tr>\n",
       "      <th>0</th>\n",
       "      <td>0</td>\n",
       "      <td>1077501</td>\n",
       "      <td>1296599</td>\n",
       "      <td>5000</td>\n",
       "      <td>5000</td>\n",
       "      <td>4975.0</td>\n",
       "      <td>36 months</td>\n",
       "      <td>10.65</td>\n",
       "      <td>162.87</td>\n",
       "      <td>B</td>\n",
       "      <td>...</td>\n",
       "      <td>NaN</td>\n",
       "      <td>NaN</td>\n",
       "      <td>NaN</td>\n",
       "      <td>NaN</td>\n",
       "      <td>NaN</td>\n",
       "      <td>NaN</td>\n",
       "      <td>NaN</td>\n",
       "      <td>NaN</td>\n",
       "      <td>NaN</td>\n",
       "      <td>NaN</td>\n",
       "    </tr>\n",
       "    <tr>\n",
       "      <th>1</th>\n",
       "      <td>1</td>\n",
       "      <td>1077430</td>\n",
       "      <td>1314167</td>\n",
       "      <td>2500</td>\n",
       "      <td>2500</td>\n",
       "      <td>2500.0</td>\n",
       "      <td>60 months</td>\n",
       "      <td>15.27</td>\n",
       "      <td>59.83</td>\n",
       "      <td>C</td>\n",
       "      <td>...</td>\n",
       "      <td>NaN</td>\n",
       "      <td>NaN</td>\n",
       "      <td>NaN</td>\n",
       "      <td>NaN</td>\n",
       "      <td>NaN</td>\n",
       "      <td>NaN</td>\n",
       "      <td>NaN</td>\n",
       "      <td>NaN</td>\n",
       "      <td>NaN</td>\n",
       "      <td>NaN</td>\n",
       "    </tr>\n",
       "    <tr>\n",
       "      <th>2</th>\n",
       "      <td>2</td>\n",
       "      <td>1077175</td>\n",
       "      <td>1313524</td>\n",
       "      <td>2400</td>\n",
       "      <td>2400</td>\n",
       "      <td>2400.0</td>\n",
       "      <td>36 months</td>\n",
       "      <td>15.96</td>\n",
       "      <td>84.33</td>\n",
       "      <td>C</td>\n",
       "      <td>...</td>\n",
       "      <td>NaN</td>\n",
       "      <td>NaN</td>\n",
       "      <td>NaN</td>\n",
       "      <td>NaN</td>\n",
       "      <td>NaN</td>\n",
       "      <td>NaN</td>\n",
       "      <td>NaN</td>\n",
       "      <td>NaN</td>\n",
       "      <td>NaN</td>\n",
       "      <td>NaN</td>\n",
       "    </tr>\n",
       "    <tr>\n",
       "      <th>3</th>\n",
       "      <td>3</td>\n",
       "      <td>1076863</td>\n",
       "      <td>1277178</td>\n",
       "      <td>10000</td>\n",
       "      <td>10000</td>\n",
       "      <td>10000.0</td>\n",
       "      <td>36 months</td>\n",
       "      <td>13.49</td>\n",
       "      <td>339.31</td>\n",
       "      <td>C</td>\n",
       "      <td>...</td>\n",
       "      <td>NaN</td>\n",
       "      <td>NaN</td>\n",
       "      <td>NaN</td>\n",
       "      <td>NaN</td>\n",
       "      <td>NaN</td>\n",
       "      <td>NaN</td>\n",
       "      <td>NaN</td>\n",
       "      <td>NaN</td>\n",
       "      <td>NaN</td>\n",
       "      <td>NaN</td>\n",
       "    </tr>\n",
       "    <tr>\n",
       "      <th>4</th>\n",
       "      <td>4</td>\n",
       "      <td>1075358</td>\n",
       "      <td>1311748</td>\n",
       "      <td>3000</td>\n",
       "      <td>3000</td>\n",
       "      <td>3000.0</td>\n",
       "      <td>60 months</td>\n",
       "      <td>12.69</td>\n",
       "      <td>67.79</td>\n",
       "      <td>B</td>\n",
       "      <td>...</td>\n",
       "      <td>NaN</td>\n",
       "      <td>NaN</td>\n",
       "      <td>NaN</td>\n",
       "      <td>NaN</td>\n",
       "      <td>NaN</td>\n",
       "      <td>NaN</td>\n",
       "      <td>NaN</td>\n",
       "      <td>NaN</td>\n",
       "      <td>NaN</td>\n",
       "      <td>NaN</td>\n",
       "    </tr>\n",
       "  </tbody>\n",
       "</table>\n",
       "<p>5 rows × 75 columns</p>\n",
       "</div>"
      ],
      "text/plain": [
       "   Unnamed: 0       id  member_id  loan_amnt  funded_amnt  funded_amnt_inv  \\\n",
       "0           0  1077501    1296599       5000         5000           4975.0   \n",
       "1           1  1077430    1314167       2500         2500           2500.0   \n",
       "2           2  1077175    1313524       2400         2400           2400.0   \n",
       "3           3  1076863    1277178      10000        10000          10000.0   \n",
       "4           4  1075358    1311748       3000         3000           3000.0   \n",
       "\n",
       "         term  int_rate  installment grade  ... total_bal_il il_util  \\\n",
       "0   36 months     10.65       162.87     B  ...          NaN     NaN   \n",
       "1   60 months     15.27        59.83     C  ...          NaN     NaN   \n",
       "2   36 months     15.96        84.33     C  ...          NaN     NaN   \n",
       "3   36 months     13.49       339.31     C  ...          NaN     NaN   \n",
       "4   60 months     12.69        67.79     B  ...          NaN     NaN   \n",
       "\n",
       "  open_rv_12m open_rv_24m  max_bal_bc all_util total_rev_hi_lim inq_fi  \\\n",
       "0         NaN         NaN         NaN      NaN              NaN    NaN   \n",
       "1         NaN         NaN         NaN      NaN              NaN    NaN   \n",
       "2         NaN         NaN         NaN      NaN              NaN    NaN   \n",
       "3         NaN         NaN         NaN      NaN              NaN    NaN   \n",
       "4         NaN         NaN         NaN      NaN              NaN    NaN   \n",
       "\n",
       "  total_cu_tl inq_last_12m  \n",
       "0         NaN          NaN  \n",
       "1         NaN          NaN  \n",
       "2         NaN          NaN  \n",
       "3         NaN          NaN  \n",
       "4         NaN          NaN  \n",
       "\n",
       "[5 rows x 75 columns]"
      ]
     },
     "execution_count": 5,
     "metadata": {},
     "output_type": "execute_result"
    }
   ],
   "source": [
    "df.head()"
   ]
  },
  {
   "cell_type": "code",
   "execution_count": 6,
   "id": "8eb2605e-e6f4-401f-9823-d67cec124e73",
   "metadata": {},
   "outputs": [
    {
     "data": {
      "text/plain": [
       "466285"
      ]
     },
     "execution_count": 6,
     "metadata": {},
     "output_type": "execute_result"
    }
   ],
   "source": [
    "df.id.nunique()"
   ]
  },
  {
   "cell_type": "code",
   "execution_count": 7,
   "id": "7fbc9a3f-98d4-463a-b860-1507d4a0aaaf",
   "metadata": {},
   "outputs": [
    {
     "data": {
      "text/plain": [
       "466285"
      ]
     },
     "execution_count": 7,
     "metadata": {},
     "output_type": "execute_result"
    }
   ],
   "source": [
    "df.member_id.nunique()"
   ]
  },
  {
   "cell_type": "markdown",
   "id": "41c455a0-ebe7-49c9-a7f0-378c4ff9ebad",
   "metadata": {},
   "source": [
    "## Statistical Summary"
   ]
  },
  {
   "cell_type": "code",
   "execution_count": 8,
   "id": "2a5adc8b-36c8-4853-ac3b-4a85863beef4",
   "metadata": {},
   "outputs": [],
   "source": [
    "numerical = df.select_dtypes(exclude='object')\n",
    "categorical = df.select_dtypes(include='object')"
   ]
  },
  {
   "cell_type": "code",
   "execution_count": 9,
   "id": "8d04afb8-cafc-4162-80e3-d54546d5ba5b",
   "metadata": {},
   "outputs": [
    {
     "data": {
      "text/html": [
       "<div>\n",
       "<style scoped>\n",
       "    .dataframe tbody tr th:only-of-type {\n",
       "        vertical-align: middle;\n",
       "    }\n",
       "\n",
       "    .dataframe tbody tr th {\n",
       "        vertical-align: top;\n",
       "    }\n",
       "\n",
       "    .dataframe thead th {\n",
       "        text-align: right;\n",
       "    }\n",
       "</style>\n",
       "<table border=\"1\" class=\"dataframe\">\n",
       "  <thead>\n",
       "    <tr style=\"text-align: right;\">\n",
       "      <th></th>\n",
       "      <th>Unnamed: 0</th>\n",
       "      <th>id</th>\n",
       "      <th>member_id</th>\n",
       "      <th>loan_amnt</th>\n",
       "      <th>funded_amnt</th>\n",
       "      <th>funded_amnt_inv</th>\n",
       "      <th>int_rate</th>\n",
       "      <th>installment</th>\n",
       "      <th>annual_inc</th>\n",
       "      <th>dti</th>\n",
       "      <th>...</th>\n",
       "      <th>total_bal_il</th>\n",
       "      <th>il_util</th>\n",
       "      <th>open_rv_12m</th>\n",
       "      <th>open_rv_24m</th>\n",
       "      <th>max_bal_bc</th>\n",
       "      <th>all_util</th>\n",
       "      <th>total_rev_hi_lim</th>\n",
       "      <th>inq_fi</th>\n",
       "      <th>total_cu_tl</th>\n",
       "      <th>inq_last_12m</th>\n",
       "    </tr>\n",
       "  </thead>\n",
       "  <tbody>\n",
       "    <tr>\n",
       "      <th>count</th>\n",
       "      <td>466285.000000</td>\n",
       "      <td>4.662850e+05</td>\n",
       "      <td>4.662850e+05</td>\n",
       "      <td>466285.000000</td>\n",
       "      <td>466285.000000</td>\n",
       "      <td>466285.000000</td>\n",
       "      <td>466285.000000</td>\n",
       "      <td>466285.000000</td>\n",
       "      <td>4.662810e+05</td>\n",
       "      <td>466285.000000</td>\n",
       "      <td>...</td>\n",
       "      <td>0.0</td>\n",
       "      <td>0.0</td>\n",
       "      <td>0.0</td>\n",
       "      <td>0.0</td>\n",
       "      <td>0.0</td>\n",
       "      <td>0.0</td>\n",
       "      <td>3.960090e+05</td>\n",
       "      <td>0.0</td>\n",
       "      <td>0.0</td>\n",
       "      <td>0.0</td>\n",
       "    </tr>\n",
       "    <tr>\n",
       "      <th>mean</th>\n",
       "      <td>233142.000000</td>\n",
       "      <td>1.307973e+07</td>\n",
       "      <td>1.459766e+07</td>\n",
       "      <td>14317.277577</td>\n",
       "      <td>14291.801044</td>\n",
       "      <td>14222.329888</td>\n",
       "      <td>13.829236</td>\n",
       "      <td>432.061201</td>\n",
       "      <td>7.327738e+04</td>\n",
       "      <td>17.218758</td>\n",
       "      <td>...</td>\n",
       "      <td>NaN</td>\n",
       "      <td>NaN</td>\n",
       "      <td>NaN</td>\n",
       "      <td>NaN</td>\n",
       "      <td>NaN</td>\n",
       "      <td>NaN</td>\n",
       "      <td>3.037909e+04</td>\n",
       "      <td>NaN</td>\n",
       "      <td>NaN</td>\n",
       "      <td>NaN</td>\n",
       "    </tr>\n",
       "    <tr>\n",
       "      <th>std</th>\n",
       "      <td>134605.029472</td>\n",
       "      <td>1.089371e+07</td>\n",
       "      <td>1.168237e+07</td>\n",
       "      <td>8286.509164</td>\n",
       "      <td>8274.371300</td>\n",
       "      <td>8297.637788</td>\n",
       "      <td>4.357587</td>\n",
       "      <td>243.485550</td>\n",
       "      <td>5.496357e+04</td>\n",
       "      <td>7.851121</td>\n",
       "      <td>...</td>\n",
       "      <td>NaN</td>\n",
       "      <td>NaN</td>\n",
       "      <td>NaN</td>\n",
       "      <td>NaN</td>\n",
       "      <td>NaN</td>\n",
       "      <td>NaN</td>\n",
       "      <td>3.724713e+04</td>\n",
       "      <td>NaN</td>\n",
       "      <td>NaN</td>\n",
       "      <td>NaN</td>\n",
       "    </tr>\n",
       "    <tr>\n",
       "      <th>min</th>\n",
       "      <td>0.000000</td>\n",
       "      <td>5.473400e+04</td>\n",
       "      <td>7.047300e+04</td>\n",
       "      <td>500.000000</td>\n",
       "      <td>500.000000</td>\n",
       "      <td>0.000000</td>\n",
       "      <td>5.420000</td>\n",
       "      <td>15.670000</td>\n",
       "      <td>1.896000e+03</td>\n",
       "      <td>0.000000</td>\n",
       "      <td>...</td>\n",
       "      <td>NaN</td>\n",
       "      <td>NaN</td>\n",
       "      <td>NaN</td>\n",
       "      <td>NaN</td>\n",
       "      <td>NaN</td>\n",
       "      <td>NaN</td>\n",
       "      <td>0.000000e+00</td>\n",
       "      <td>NaN</td>\n",
       "      <td>NaN</td>\n",
       "      <td>NaN</td>\n",
       "    </tr>\n",
       "    <tr>\n",
       "      <th>25%</th>\n",
       "      <td>116571.000000</td>\n",
       "      <td>3.639987e+06</td>\n",
       "      <td>4.379705e+06</td>\n",
       "      <td>8000.000000</td>\n",
       "      <td>8000.000000</td>\n",
       "      <td>8000.000000</td>\n",
       "      <td>10.990000</td>\n",
       "      <td>256.690000</td>\n",
       "      <td>4.500000e+04</td>\n",
       "      <td>11.360000</td>\n",
       "      <td>...</td>\n",
       "      <td>NaN</td>\n",
       "      <td>NaN</td>\n",
       "      <td>NaN</td>\n",
       "      <td>NaN</td>\n",
       "      <td>NaN</td>\n",
       "      <td>NaN</td>\n",
       "      <td>1.350000e+04</td>\n",
       "      <td>NaN</td>\n",
       "      <td>NaN</td>\n",
       "      <td>NaN</td>\n",
       "    </tr>\n",
       "    <tr>\n",
       "      <th>50%</th>\n",
       "      <td>233142.000000</td>\n",
       "      <td>1.010790e+07</td>\n",
       "      <td>1.194108e+07</td>\n",
       "      <td>12000.000000</td>\n",
       "      <td>12000.000000</td>\n",
       "      <td>12000.000000</td>\n",
       "      <td>13.660000</td>\n",
       "      <td>379.890000</td>\n",
       "      <td>6.300000e+04</td>\n",
       "      <td>16.870000</td>\n",
       "      <td>...</td>\n",
       "      <td>NaN</td>\n",
       "      <td>NaN</td>\n",
       "      <td>NaN</td>\n",
       "      <td>NaN</td>\n",
       "      <td>NaN</td>\n",
       "      <td>NaN</td>\n",
       "      <td>2.280000e+04</td>\n",
       "      <td>NaN</td>\n",
       "      <td>NaN</td>\n",
       "      <td>NaN</td>\n",
       "    </tr>\n",
       "    <tr>\n",
       "      <th>75%</th>\n",
       "      <td>349713.000000</td>\n",
       "      <td>2.073121e+07</td>\n",
       "      <td>2.300154e+07</td>\n",
       "      <td>20000.000000</td>\n",
       "      <td>20000.000000</td>\n",
       "      <td>19950.000000</td>\n",
       "      <td>16.490000</td>\n",
       "      <td>566.580000</td>\n",
       "      <td>8.896000e+04</td>\n",
       "      <td>22.780000</td>\n",
       "      <td>...</td>\n",
       "      <td>NaN</td>\n",
       "      <td>NaN</td>\n",
       "      <td>NaN</td>\n",
       "      <td>NaN</td>\n",
       "      <td>NaN</td>\n",
       "      <td>NaN</td>\n",
       "      <td>3.790000e+04</td>\n",
       "      <td>NaN</td>\n",
       "      <td>NaN</td>\n",
       "      <td>NaN</td>\n",
       "    </tr>\n",
       "    <tr>\n",
       "      <th>max</th>\n",
       "      <td>466284.000000</td>\n",
       "      <td>3.809811e+07</td>\n",
       "      <td>4.086083e+07</td>\n",
       "      <td>35000.000000</td>\n",
       "      <td>35000.000000</td>\n",
       "      <td>35000.000000</td>\n",
       "      <td>26.060000</td>\n",
       "      <td>1409.990000</td>\n",
       "      <td>7.500000e+06</td>\n",
       "      <td>39.990000</td>\n",
       "      <td>...</td>\n",
       "      <td>NaN</td>\n",
       "      <td>NaN</td>\n",
       "      <td>NaN</td>\n",
       "      <td>NaN</td>\n",
       "      <td>NaN</td>\n",
       "      <td>NaN</td>\n",
       "      <td>9.999999e+06</td>\n",
       "      <td>NaN</td>\n",
       "      <td>NaN</td>\n",
       "      <td>NaN</td>\n",
       "    </tr>\n",
       "  </tbody>\n",
       "</table>\n",
       "<p>8 rows × 53 columns</p>\n",
       "</div>"
      ],
      "text/plain": [
       "          Unnamed: 0            id     member_id      loan_amnt  \\\n",
       "count  466285.000000  4.662850e+05  4.662850e+05  466285.000000   \n",
       "mean   233142.000000  1.307973e+07  1.459766e+07   14317.277577   \n",
       "std    134605.029472  1.089371e+07  1.168237e+07    8286.509164   \n",
       "min         0.000000  5.473400e+04  7.047300e+04     500.000000   \n",
       "25%    116571.000000  3.639987e+06  4.379705e+06    8000.000000   \n",
       "50%    233142.000000  1.010790e+07  1.194108e+07   12000.000000   \n",
       "75%    349713.000000  2.073121e+07  2.300154e+07   20000.000000   \n",
       "max    466284.000000  3.809811e+07  4.086083e+07   35000.000000   \n",
       "\n",
       "         funded_amnt  funded_amnt_inv       int_rate    installment  \\\n",
       "count  466285.000000    466285.000000  466285.000000  466285.000000   \n",
       "mean    14291.801044     14222.329888      13.829236     432.061201   \n",
       "std      8274.371300      8297.637788       4.357587     243.485550   \n",
       "min       500.000000         0.000000       5.420000      15.670000   \n",
       "25%      8000.000000      8000.000000      10.990000     256.690000   \n",
       "50%     12000.000000     12000.000000      13.660000     379.890000   \n",
       "75%     20000.000000     19950.000000      16.490000     566.580000   \n",
       "max     35000.000000     35000.000000      26.060000    1409.990000   \n",
       "\n",
       "         annual_inc            dti  ...  total_bal_il  il_util  open_rv_12m  \\\n",
       "count  4.662810e+05  466285.000000  ...           0.0      0.0          0.0   \n",
       "mean   7.327738e+04      17.218758  ...           NaN      NaN          NaN   \n",
       "std    5.496357e+04       7.851121  ...           NaN      NaN          NaN   \n",
       "min    1.896000e+03       0.000000  ...           NaN      NaN          NaN   \n",
       "25%    4.500000e+04      11.360000  ...           NaN      NaN          NaN   \n",
       "50%    6.300000e+04      16.870000  ...           NaN      NaN          NaN   \n",
       "75%    8.896000e+04      22.780000  ...           NaN      NaN          NaN   \n",
       "max    7.500000e+06      39.990000  ...           NaN      NaN          NaN   \n",
       "\n",
       "       open_rv_24m  max_bal_bc  all_util  total_rev_hi_lim  inq_fi  \\\n",
       "count          0.0         0.0       0.0      3.960090e+05     0.0   \n",
       "mean           NaN         NaN       NaN      3.037909e+04     NaN   \n",
       "std            NaN         NaN       NaN      3.724713e+04     NaN   \n",
       "min            NaN         NaN       NaN      0.000000e+00     NaN   \n",
       "25%            NaN         NaN       NaN      1.350000e+04     NaN   \n",
       "50%            NaN         NaN       NaN      2.280000e+04     NaN   \n",
       "75%            NaN         NaN       NaN      3.790000e+04     NaN   \n",
       "max            NaN         NaN       NaN      9.999999e+06     NaN   \n",
       "\n",
       "       total_cu_tl  inq_last_12m  \n",
       "count          0.0           0.0  \n",
       "mean           NaN           NaN  \n",
       "std            NaN           NaN  \n",
       "min            NaN           NaN  \n",
       "25%            NaN           NaN  \n",
       "50%            NaN           NaN  \n",
       "75%            NaN           NaN  \n",
       "max            NaN           NaN  \n",
       "\n",
       "[8 rows x 53 columns]"
      ]
     },
     "execution_count": 9,
     "metadata": {},
     "output_type": "execute_result"
    }
   ],
   "source": [
    "numerical.describe()"
   ]
  },
  {
   "cell_type": "code",
   "execution_count": 10,
   "id": "aecea10f-c780-4f08-94bf-d80a769824a9",
   "metadata": {},
   "outputs": [
    {
     "data": {
      "text/html": [
       "<div>\n",
       "<style scoped>\n",
       "    .dataframe tbody tr th:only-of-type {\n",
       "        vertical-align: middle;\n",
       "    }\n",
       "\n",
       "    .dataframe tbody tr th {\n",
       "        vertical-align: top;\n",
       "    }\n",
       "\n",
       "    .dataframe thead th {\n",
       "        text-align: right;\n",
       "    }\n",
       "</style>\n",
       "<table border=\"1\" class=\"dataframe\">\n",
       "  <thead>\n",
       "    <tr style=\"text-align: right;\">\n",
       "      <th></th>\n",
       "      <th>term</th>\n",
       "      <th>grade</th>\n",
       "      <th>sub_grade</th>\n",
       "      <th>emp_title</th>\n",
       "      <th>emp_length</th>\n",
       "      <th>home_ownership</th>\n",
       "      <th>verification_status</th>\n",
       "      <th>issue_d</th>\n",
       "      <th>loan_status</th>\n",
       "      <th>pymnt_plan</th>\n",
       "      <th>...</th>\n",
       "      <th>purpose</th>\n",
       "      <th>title</th>\n",
       "      <th>zip_code</th>\n",
       "      <th>addr_state</th>\n",
       "      <th>earliest_cr_line</th>\n",
       "      <th>initial_list_status</th>\n",
       "      <th>last_pymnt_d</th>\n",
       "      <th>next_pymnt_d</th>\n",
       "      <th>last_credit_pull_d</th>\n",
       "      <th>application_type</th>\n",
       "    </tr>\n",
       "  </thead>\n",
       "  <tbody>\n",
       "    <tr>\n",
       "      <th>count</th>\n",
       "      <td>466285</td>\n",
       "      <td>466285</td>\n",
       "      <td>466285</td>\n",
       "      <td>438697</td>\n",
       "      <td>445277</td>\n",
       "      <td>466285</td>\n",
       "      <td>466285</td>\n",
       "      <td>466285</td>\n",
       "      <td>466285</td>\n",
       "      <td>466285</td>\n",
       "      <td>...</td>\n",
       "      <td>466285</td>\n",
       "      <td>466265</td>\n",
       "      <td>466285</td>\n",
       "      <td>466285</td>\n",
       "      <td>466256</td>\n",
       "      <td>466285</td>\n",
       "      <td>465909</td>\n",
       "      <td>239071</td>\n",
       "      <td>466243</td>\n",
       "      <td>466285</td>\n",
       "    </tr>\n",
       "    <tr>\n",
       "      <th>unique</th>\n",
       "      <td>2</td>\n",
       "      <td>7</td>\n",
       "      <td>35</td>\n",
       "      <td>205475</td>\n",
       "      <td>11</td>\n",
       "      <td>6</td>\n",
       "      <td>3</td>\n",
       "      <td>91</td>\n",
       "      <td>9</td>\n",
       "      <td>2</td>\n",
       "      <td>...</td>\n",
       "      <td>14</td>\n",
       "      <td>63099</td>\n",
       "      <td>888</td>\n",
       "      <td>50</td>\n",
       "      <td>664</td>\n",
       "      <td>2</td>\n",
       "      <td>98</td>\n",
       "      <td>100</td>\n",
       "      <td>103</td>\n",
       "      <td>1</td>\n",
       "    </tr>\n",
       "    <tr>\n",
       "      <th>top</th>\n",
       "      <td>36 months</td>\n",
       "      <td>B</td>\n",
       "      <td>B3</td>\n",
       "      <td>Teacher</td>\n",
       "      <td>10+ years</td>\n",
       "      <td>MORTGAGE</td>\n",
       "      <td>Verified</td>\n",
       "      <td>Oct-14</td>\n",
       "      <td>Current</td>\n",
       "      <td>n</td>\n",
       "      <td>...</td>\n",
       "      <td>debt_consolidation</td>\n",
       "      <td>Debt consolidation</td>\n",
       "      <td>945xx</td>\n",
       "      <td>CA</td>\n",
       "      <td>Oct-00</td>\n",
       "      <td>f</td>\n",
       "      <td>Jan-16</td>\n",
       "      <td>Feb-16</td>\n",
       "      <td>Jan-16</td>\n",
       "      <td>INDIVIDUAL</td>\n",
       "    </tr>\n",
       "    <tr>\n",
       "      <th>freq</th>\n",
       "      <td>337953</td>\n",
       "      <td>136929</td>\n",
       "      <td>31686</td>\n",
       "      <td>5399</td>\n",
       "      <td>150049</td>\n",
       "      <td>235875</td>\n",
       "      <td>168055</td>\n",
       "      <td>38782</td>\n",
       "      <td>224226</td>\n",
       "      <td>466276</td>\n",
       "      <td>...</td>\n",
       "      <td>274195</td>\n",
       "      <td>164075</td>\n",
       "      <td>5304</td>\n",
       "      <td>71450</td>\n",
       "      <td>3674</td>\n",
       "      <td>303005</td>\n",
       "      <td>179620</td>\n",
       "      <td>208393</td>\n",
       "      <td>327699</td>\n",
       "      <td>466285</td>\n",
       "    </tr>\n",
       "  </tbody>\n",
       "</table>\n",
       "<p>4 rows × 22 columns</p>\n",
       "</div>"
      ],
      "text/plain": [
       "              term   grade sub_grade emp_title emp_length home_ownership  \\\n",
       "count       466285  466285    466285    438697     445277         466285   \n",
       "unique           2       7        35    205475         11              6   \n",
       "top      36 months       B        B3   Teacher  10+ years       MORTGAGE   \n",
       "freq        337953  136929     31686      5399     150049         235875   \n",
       "\n",
       "       verification_status issue_d loan_status pymnt_plan  ...  \\\n",
       "count               466285  466285      466285     466285  ...   \n",
       "unique                   3      91           9          2  ...   \n",
       "top               Verified  Oct-14     Current          n  ...   \n",
       "freq                168055   38782      224226     466276  ...   \n",
       "\n",
       "                   purpose               title zip_code addr_state  \\\n",
       "count               466285              466265   466285     466285   \n",
       "unique                  14               63099      888         50   \n",
       "top     debt_consolidation  Debt consolidation    945xx         CA   \n",
       "freq                274195              164075     5304      71450   \n",
       "\n",
       "       earliest_cr_line initial_list_status last_pymnt_d next_pymnt_d  \\\n",
       "count            466256              466285       465909       239071   \n",
       "unique              664                   2           98          100   \n",
       "top              Oct-00                   f       Jan-16       Feb-16   \n",
       "freq               3674              303005       179620       208393   \n",
       "\n",
       "       last_credit_pull_d application_type  \n",
       "count              466243           466285  \n",
       "unique                103                1  \n",
       "top                Jan-16       INDIVIDUAL  \n",
       "freq               327699           466285  \n",
       "\n",
       "[4 rows x 22 columns]"
      ]
     },
     "execution_count": 10,
     "metadata": {},
     "output_type": "execute_result"
    }
   ],
   "source": [
    "categorical.describe()"
   ]
  },
  {
   "cell_type": "code",
   "execution_count": 11,
   "id": "8acf3a4b-3fcb-462d-b8ac-e4fddd367367",
   "metadata": {},
   "outputs": [],
   "source": [
    "cols_to_drop = [\n",
    "    'Unnamed: 0',\n",
    "    # unique id\n",
    "    'id'\n",
    "    , 'member_id'\n",
    "    \n",
    "    # free text\n",
    "    , 'url'\n",
    "    , 'desc'\n",
    "    \n",
    "    # all null / constant / others\n",
    "    , 'zip_code' \n",
    "    , 'annual_inc_joint'\n",
    "    , 'dti_joint'\n",
    "    , 'verification_status_joint'\n",
    "    , 'open_acc_6m'\n",
    "    , 'open_il_6m'\n",
    "    , 'open_il_12m'\n",
    "    , 'open_il_24m'\n",
    "    , 'mths_since_rcnt_il'\n",
    "    , 'total_bal_il'\n",
    "    , 'il_util'\n",
    "    , 'open_rv_12m'\n",
    "    , 'open_rv_24m'\n",
    "    , 'max_bal_bc'\n",
    "    , 'all_util'\n",
    "    , 'inq_fi'\n",
    "    , 'total_cu_tl'\n",
    "    , 'inq_last_12m'\n",
    "    \n",
    "    # expert judgment\n",
    "    , 'sub_grade'\n",
    "]"
   ]
  },
  {
   "cell_type": "code",
   "execution_count": 12,
   "id": "23692490-bc16-4061-b847-740ebd1dd212",
   "metadata": {},
   "outputs": [],
   "source": [
    "df = df.drop(cols_to_drop, axis=1)"
   ]
  },
  {
   "cell_type": "code",
   "execution_count": 13,
   "id": "cc300371-e8bf-4a32-bbf4-353b5a061516",
   "metadata": {},
   "outputs": [
    {
     "name": "stdout",
     "output_type": "stream",
     "text": [
      "<class 'pandas.core.frame.DataFrame'>\n",
      "RangeIndex: 466285 entries, 0 to 466284\n",
      "Data columns (total 51 columns):\n",
      " #   Column                       Non-Null Count   Dtype  \n",
      "---  ------                       --------------   -----  \n",
      " 0   loan_amnt                    466285 non-null  int64  \n",
      " 1   funded_amnt                  466285 non-null  int64  \n",
      " 2   funded_amnt_inv              466285 non-null  float64\n",
      " 3   term                         466285 non-null  object \n",
      " 4   int_rate                     466285 non-null  float64\n",
      " 5   installment                  466285 non-null  float64\n",
      " 6   grade                        466285 non-null  object \n",
      " 7   emp_title                    438697 non-null  object \n",
      " 8   emp_length                   445277 non-null  object \n",
      " 9   home_ownership               466285 non-null  object \n",
      " 10  annual_inc                   466281 non-null  float64\n",
      " 11  verification_status          466285 non-null  object \n",
      " 12  issue_d                      466285 non-null  object \n",
      " 13  loan_status                  466285 non-null  object \n",
      " 14  pymnt_plan                   466285 non-null  object \n",
      " 15  purpose                      466285 non-null  object \n",
      " 16  title                        466265 non-null  object \n",
      " 17  addr_state                   466285 non-null  object \n",
      " 18  dti                          466285 non-null  float64\n",
      " 19  delinq_2yrs                  466256 non-null  float64\n",
      " 20  earliest_cr_line             466256 non-null  object \n",
      " 21  inq_last_6mths               466256 non-null  float64\n",
      " 22  mths_since_last_delinq       215934 non-null  float64\n",
      " 23  mths_since_last_record       62638 non-null   float64\n",
      " 24  open_acc                     466256 non-null  float64\n",
      " 25  pub_rec                      466256 non-null  float64\n",
      " 26  revol_bal                    466285 non-null  int64  \n",
      " 27  revol_util                   465945 non-null  float64\n",
      " 28  total_acc                    466256 non-null  float64\n",
      " 29  initial_list_status          466285 non-null  object \n",
      " 30  out_prncp                    466285 non-null  float64\n",
      " 31  out_prncp_inv                466285 non-null  float64\n",
      " 32  total_pymnt                  466285 non-null  float64\n",
      " 33  total_pymnt_inv              466285 non-null  float64\n",
      " 34  total_rec_prncp              466285 non-null  float64\n",
      " 35  total_rec_int                466285 non-null  float64\n",
      " 36  total_rec_late_fee           466285 non-null  float64\n",
      " 37  recoveries                   466285 non-null  float64\n",
      " 38  collection_recovery_fee      466285 non-null  float64\n",
      " 39  last_pymnt_d                 465909 non-null  object \n",
      " 40  last_pymnt_amnt              466285 non-null  float64\n",
      " 41  next_pymnt_d                 239071 non-null  object \n",
      " 42  last_credit_pull_d           466243 non-null  object \n",
      " 43  collections_12_mths_ex_med   466140 non-null  float64\n",
      " 44  mths_since_last_major_derog  98974 non-null   float64\n",
      " 45  policy_code                  466285 non-null  int64  \n",
      " 46  application_type             466285 non-null  object \n",
      " 47  acc_now_delinq               466256 non-null  float64\n",
      " 48  tot_coll_amt                 396009 non-null  float64\n",
      " 49  tot_cur_bal                  396009 non-null  float64\n",
      " 50  total_rev_hi_lim             396009 non-null  float64\n",
      "dtypes: float64(29), int64(4), object(18)\n",
      "memory usage: 181.4+ MB\n"
     ]
    }
   ],
   "source": [
    "df.info()"
   ]
  },
  {
   "cell_type": "markdown",
   "id": "f633a456-0b55-4ba2-b34f-df585f3aa2e3",
   "metadata": {},
   "source": [
    "# Defining Target/ Labeling"
   ]
  },
  {
   "cell_type": "code",
   "execution_count": 14,
   "id": "0570f36d-ab84-4e8b-8739-d2711eec67ed",
   "metadata": {},
   "outputs": [
    {
     "data": {
      "text/plain": [
       "Current                                                48.087757\n",
       "Fully Paid                                             39.619332\n",
       "Charged Off                                             9.109236\n",
       "Late (31-120 days)                                      1.479782\n",
       "In Grace Period                                         0.674695\n",
       "Does not meet the credit policy. Status:Fully Paid      0.426349\n",
       "Late (16-30 days)                                       0.261214\n",
       "Default                                                 0.178432\n",
       "Does not meet the credit policy. Status:Charged Off     0.163205\n",
       "Name: loan_status, dtype: float64"
      ]
     },
     "execution_count": 14,
     "metadata": {},
     "output_type": "execute_result"
    }
   ],
   "source": [
    "df.loan_status.value_counts(normalize=True)*100"
   ]
  },
  {
   "cell_type": "code",
   "execution_count": 15,
   "id": "65536fed-95a9-4704-ad59-c5ad74313407",
   "metadata": {},
   "outputs": [],
   "source": [
    "bad_status = [\n",
    "    'Charged Off' \n",
    "    , 'Default' \n",
    "    , 'Does not meet the credit policy. Status:Charged Off'\n",
    "    , 'Late (31-120 days)'\n",
    "]\n",
    "\n",
    "df['bad_credit'] = np.where(df['loan_status'].isin(bad_status), 1, 0)"
   ]
  },
  {
   "cell_type": "code",
   "execution_count": 16,
   "id": "f6c0c0c2-0a8e-4734-98e6-cd723966943e",
   "metadata": {},
   "outputs": [
    {
     "data": {
      "text/plain": [
       "0    89.069346\n",
       "1    10.930654\n",
       "Name: bad_credit, dtype: float64"
      ]
     },
     "execution_count": 16,
     "metadata": {},
     "output_type": "execute_result"
    }
   ],
   "source": [
    "df['bad_credit'].value_counts(normalize=True)*100"
   ]
  },
  {
   "cell_type": "code",
   "execution_count": 17,
   "id": "94680dc9-4960-415b-9b1d-77930aceb764",
   "metadata": {},
   "outputs": [],
   "source": [
    "df.drop('loan_status', axis=1, inplace=True)"
   ]
  },
  {
   "cell_type": "markdown",
   "id": "9a845d18-6b32-4130-9f6f-663c2ee32d34",
   "metadata": {},
   "source": [
    "# Data Preprocessing"
   ]
  },
  {
   "cell_type": "markdown",
   "id": "fb9b626a-205b-41e4-93af-70edff5ad30e",
   "metadata": {},
   "source": [
    "## Feature Engineering"
   ]
  },
  {
   "cell_type": "markdown",
   "id": "5ec853b8-dc83-4451-a3e8-c835f115c1d7",
   "metadata": {},
   "source": [
    "### emp_length"
   ]
  },
  {
   "cell_type": "code",
   "execution_count": 18,
   "id": "c9e10383-3dae-4319-95d1-eeb5eadce2d7",
   "metadata": {},
   "outputs": [
    {
     "data": {
      "text/plain": [
       "array(['10+ years', '< 1 year', '1 year', '3 years', '8 years', '9 years',\n",
       "       '4 years', '5 years', '6 years', '2 years', '7 years', nan],\n",
       "      dtype=object)"
      ]
     },
     "execution_count": 18,
     "metadata": {},
     "output_type": "execute_result"
    }
   ],
   "source": [
    "df['emp_length'].unique()"
   ]
  },
  {
   "cell_type": "code",
   "execution_count": 19,
   "id": "73296ac0-95da-441f-836c-2dae80a79085",
   "metadata": {},
   "outputs": [],
   "source": [
    "df['emp_length'] = df['emp_length'].str.replace('\\+ years', '')\n",
    "df['emp_length'] = df['emp_length'].str.replace('< 1 year', str(0))\n",
    "df['emp_length'] = df['emp_length'].str.replace(' years', '')\n",
    "df['emp_length'] = df['emp_length'].str.replace(' year', '')"
   ]
  },
  {
   "cell_type": "code",
   "execution_count": 20,
   "id": "7df00ab3-f149-45eb-b400-31218d5922fc",
   "metadata": {},
   "outputs": [],
   "source": [
    "df['emp_length'] = df['emp_length'].astype(float)"
   ]
  },
  {
   "cell_type": "code",
   "execution_count": 21,
   "id": "5e174cc3-a06b-4bf1-824e-b4443442d645",
   "metadata": {},
   "outputs": [
    {
     "data": {
      "text/plain": [
       "count    445277.000000\n",
       "mean          5.993330\n",
       "std           3.627044\n",
       "min           0.000000\n",
       "25%           3.000000\n",
       "50%           6.000000\n",
       "75%          10.000000\n",
       "max          10.000000\n",
       "Name: emp_length, dtype: float64"
      ]
     },
     "execution_count": 21,
     "metadata": {},
     "output_type": "execute_result"
    }
   ],
   "source": [
    "df['emp_length'].describe()"
   ]
  },
  {
   "cell_type": "markdown",
   "id": "bc40ccde-dd1d-45b5-8208-55e9f3a05598",
   "metadata": {},
   "source": [
    "### term"
   ]
  },
  {
   "cell_type": "code",
   "execution_count": 22,
   "id": "8e7a8e6b-16af-4be3-bc5a-12ad2e847d9c",
   "metadata": {},
   "outputs": [
    {
     "data": {
      "text/plain": [
       "array([' 36 months', ' 60 months'], dtype=object)"
      ]
     },
     "execution_count": 22,
     "metadata": {},
     "output_type": "execute_result"
    }
   ],
   "source": [
    "df['term'].unique()"
   ]
  },
  {
   "cell_type": "code",
   "execution_count": 23,
   "id": "f774772c-b1f1-4728-98f8-044f35f656ed",
   "metadata": {},
   "outputs": [],
   "source": [
    "df['term'] = df['term'].str.replace(' months', '')\n",
    "df['term'] = df['term'].astype(float)"
   ]
  },
  {
   "cell_type": "code",
   "execution_count": 24,
   "id": "47695fbc-b186-4768-b2dc-549f08659df2",
   "metadata": {},
   "outputs": [
    {
     "data": {
      "text/plain": [
       "count    466285.000000\n",
       "mean         42.605334\n",
       "std          10.719040\n",
       "min          36.000000\n",
       "25%          36.000000\n",
       "50%          36.000000\n",
       "75%          60.000000\n",
       "max          60.000000\n",
       "Name: term, dtype: float64"
      ]
     },
     "execution_count": 24,
     "metadata": {},
     "output_type": "execute_result"
    }
   ],
   "source": [
    "df['term'].describe()"
   ]
  },
  {
   "cell_type": "markdown",
   "id": "c3f9a472-f28c-4d03-a1cd-eb0f546f8c5b",
   "metadata": {},
   "source": [
    "### earliest_cr_line"
   ]
  },
  {
   "cell_type": "code",
   "execution_count": 25,
   "id": "79d8b424-6aca-4c7f-a7e6-52802c5671b2",
   "metadata": {},
   "outputs": [
    {
     "data": {
      "text/plain": [
       "0    Jan-85\n",
       "1    Apr-99\n",
       "2    Nov-01\n",
       "3    Feb-96\n",
       "4    Jan-96\n",
       "Name: earliest_cr_line, dtype: object"
      ]
     },
     "execution_count": 25,
     "metadata": {},
     "output_type": "execute_result"
    }
   ],
   "source": [
    "df['earliest_cr_line'].head(5)"
   ]
  },
  {
   "cell_type": "code",
   "execution_count": 26,
   "id": "b5bb0ff8-a5f6-43e5-982a-55eaa0fd52f7",
   "metadata": {},
   "outputs": [
    {
     "data": {
      "text/plain": [
       "0   1985-01-01\n",
       "1   1999-04-01\n",
       "2   2001-11-01\n",
       "Name: earliest_cr_line_date, dtype: datetime64[ns]"
      ]
     },
     "execution_count": 26,
     "metadata": {},
     "output_type": "execute_result"
    }
   ],
   "source": [
    "df['earliest_cr_line_date'] = pd.to_datetime(df['earliest_cr_line'], format='%b-%y')\n",
    "df['earliest_cr_line_date'].head(3)"
   ]
  },
  {
   "cell_type": "code",
   "execution_count": 27,
   "id": "8f732290-9091-4f90-90f0-59d23ae2da9a",
   "metadata": {},
   "outputs": [
    {
     "data": {
      "text/plain": [
       "0    396.0\n",
       "1    225.0\n",
       "2    194.0\n",
       "Name: mths_earliest_cr_line, dtype: float64"
      ]
     },
     "execution_count": 27,
     "metadata": {},
     "output_type": "execute_result"
    }
   ],
   "source": [
    "df['mths_earliest_cr_line'] = round(pd.to_numeric((pd.to_datetime('2017-12-31') - df['earliest_cr_line_date']) / np.timedelta64(1, 'M')))\n",
    "df['mths_earliest_cr_line'].head(3)"
   ]
  },
  {
   "cell_type": "code",
   "execution_count": 28,
   "id": "009c1da1-8f50-4855-870b-f0a04e41597c",
   "metadata": {},
   "outputs": [
    {
     "data": {
      "text/plain": [
       "count    466256.000000\n",
       "mean        240.482430\n",
       "std          93.974829\n",
       "min        -611.000000\n",
       "25%         184.000000\n",
       "50%         226.000000\n",
       "75%         286.000000\n",
       "max         588.000000\n",
       "Name: mths_earliest_cr_line, dtype: float64"
      ]
     },
     "execution_count": 28,
     "metadata": {},
     "output_type": "execute_result"
    }
   ],
   "source": [
    "df['mths_earliest_cr_line'].describe()"
   ]
  },
  {
   "cell_type": "code",
   "execution_count": 29,
   "id": "9e9425e0-1fb1-4ca9-8782-5b0ca3696ea2",
   "metadata": {},
   "outputs": [
    {
     "data": {
      "text/html": [
       "<div>\n",
       "<style scoped>\n",
       "    .dataframe tbody tr th:only-of-type {\n",
       "        vertical-align: middle;\n",
       "    }\n",
       "\n",
       "    .dataframe tbody tr th {\n",
       "        vertical-align: top;\n",
       "    }\n",
       "\n",
       "    .dataframe thead th {\n",
       "        text-align: right;\n",
       "    }\n",
       "</style>\n",
       "<table border=\"1\" class=\"dataframe\">\n",
       "  <thead>\n",
       "    <tr style=\"text-align: right;\">\n",
       "      <th></th>\n",
       "      <th>earliest_cr_line</th>\n",
       "      <th>earliest_cr_line_date</th>\n",
       "      <th>mths_earliest_cr_line</th>\n",
       "    </tr>\n",
       "  </thead>\n",
       "  <tbody>\n",
       "    <tr>\n",
       "      <th>1580</th>\n",
       "      <td>Sep-62</td>\n",
       "      <td>2062-09-01</td>\n",
       "      <td>-536.0</td>\n",
       "    </tr>\n",
       "    <tr>\n",
       "      <th>1770</th>\n",
       "      <td>Sep-68</td>\n",
       "      <td>2068-09-01</td>\n",
       "      <td>-608.0</td>\n",
       "    </tr>\n",
       "    <tr>\n",
       "      <th>2799</th>\n",
       "      <td>Sep-64</td>\n",
       "      <td>2064-09-01</td>\n",
       "      <td>-560.0</td>\n",
       "    </tr>\n",
       "  </tbody>\n",
       "</table>\n",
       "</div>"
      ],
      "text/plain": [
       "     earliest_cr_line earliest_cr_line_date  mths_earliest_cr_line\n",
       "1580           Sep-62            2062-09-01                 -536.0\n",
       "1770           Sep-68            2068-09-01                 -608.0\n",
       "2799           Sep-64            2064-09-01                 -560.0"
      ]
     },
     "execution_count": 29,
     "metadata": {},
     "output_type": "execute_result"
    }
   ],
   "source": [
    "df[df['mths_earliest_cr_line']<0][['earliest_cr_line', 'earliest_cr_line_date', 'mths_earliest_cr_line']].head(3)"
   ]
  },
  {
   "cell_type": "code",
   "execution_count": 30,
   "id": "eca3314d-3d3b-40d0-9e3b-843644e7e299",
   "metadata": {},
   "outputs": [],
   "source": [
    "df.loc[df['mths_earliest_cr_line']<0, 'mths_earliest_cr_line'] = df['mths_earliest_cr_line'].max()"
   ]
  },
  {
   "cell_type": "code",
   "execution_count": 31,
   "id": "8796795c-fe34-44b7-9c4f-a209864eb4a2",
   "metadata": {},
   "outputs": [],
   "source": [
    "df.drop(['earliest_cr_line', 'earliest_cr_line_date'], axis=1, inplace=True)"
   ]
  },
  {
   "cell_type": "code",
   "execution_count": 32,
   "id": "1c168703-c9e3-420b-878e-bd4222ffa293",
   "metadata": {},
   "outputs": [
    {
     "data": {
      "text/plain": [
       "count    466256.000000\n",
       "mean        243.385374\n",
       "std          86.460310\n",
       "min          74.000000\n",
       "25%         185.000000\n",
       "50%         227.000000\n",
       "75%         286.000000\n",
       "max         588.000000\n",
       "Name: mths_earliest_cr_line, dtype: float64"
      ]
     },
     "execution_count": 32,
     "metadata": {},
     "output_type": "execute_result"
    }
   ],
   "source": [
    "df['mths_earliest_cr_line'].describe()"
   ]
  },
  {
   "cell_type": "markdown",
   "id": "7c5d7d1f-c406-4e6c-88ef-652beae568d1",
   "metadata": {},
   "source": [
    "### issue_d"
   ]
  },
  {
   "cell_type": "code",
   "execution_count": 33,
   "id": "e53ca2f4-3f6d-4e9a-acad-480890125e96",
   "metadata": {},
   "outputs": [],
   "source": [
    "df['issue_d_date'] = pd.to_datetime(df['issue_d'], format='%b-%y')\n",
    "df['mths_issue_d'] = round(pd.to_numeric((pd.to_datetime('2017-12-31') - df['issue_d_date']) / np.timedelta64(1, 'M')))"
   ]
  },
  {
   "cell_type": "code",
   "execution_count": 34,
   "id": "20096273-adca-4501-9b29-bb72367be852",
   "metadata": {},
   "outputs": [],
   "source": [
    "df.drop(['issue_d', 'issue_d_date'], axis=1, inplace=True)"
   ]
  },
  {
   "cell_type": "code",
   "execution_count": 35,
   "id": "2d570431-019a-4a49-a4d2-4ad2f689e38e",
   "metadata": {},
   "outputs": [
    {
     "data": {
      "text/plain": [
       "count    466285.000000\n",
       "mean         52.255187\n",
       "std          14.340154\n",
       "min          37.000000\n",
       "25%          42.000000\n",
       "50%          48.000000\n",
       "75%          58.000000\n",
       "max         127.000000\n",
       "Name: mths_issue_d, dtype: float64"
      ]
     },
     "execution_count": 35,
     "metadata": {},
     "output_type": "execute_result"
    }
   ],
   "source": [
    "df['mths_issue_d'].describe()"
   ]
  },
  {
   "cell_type": "markdown",
   "id": "76bd5643-3f65-4c4b-998c-50caf582d564",
   "metadata": {},
   "source": [
    "### last_pymnt_d"
   ]
  },
  {
   "cell_type": "code",
   "execution_count": 36,
   "id": "cfdf294a-096d-4121-a077-84137084160b",
   "metadata": {},
   "outputs": [],
   "source": [
    "df['last_pymnt_d_date'] = pd.to_datetime(df['last_pymnt_d'], format='%b-%y')\n",
    "df['mths_last_pymnt_d'] = round(pd.to_numeric((pd.to_datetime('2017-12-31') - df['last_pymnt_d_date']) / np.timedelta64(1, 'M')))"
   ]
  },
  {
   "cell_type": "code",
   "execution_count": 37,
   "id": "11a4d853-fb14-4a50-8b97-e5c7dc4275fd",
   "metadata": {},
   "outputs": [],
   "source": [
    "df.drop(['last_pymnt_d', 'last_pymnt_d_date'], axis=1, inplace=True)"
   ]
  },
  {
   "cell_type": "code",
   "execution_count": 38,
   "id": "dd47cdd4-a125-47ef-a102-e6573171dc22",
   "metadata": {},
   "outputs": [
    {
     "data": {
      "text/plain": [
       "count    465909.000000\n",
       "mean         32.294369\n",
       "std          12.809898\n",
       "min          24.000000\n",
       "25%          24.000000\n",
       "50%          25.000000\n",
       "75%          36.000000\n",
       "max         121.000000\n",
       "Name: mths_last_pymnt_d, dtype: float64"
      ]
     },
     "execution_count": 38,
     "metadata": {},
     "output_type": "execute_result"
    }
   ],
   "source": [
    "df['mths_last_pymnt_d'].describe()"
   ]
  },
  {
   "cell_type": "markdown",
   "id": "f3c629d5-e4f0-49d5-8c92-9ec2676428b1",
   "metadata": {},
   "source": [
    "### next_pymnt_d"
   ]
  },
  {
   "cell_type": "code",
   "execution_count": 39,
   "id": "01e4ebed-2673-420c-a825-45da302de657",
   "metadata": {},
   "outputs": [],
   "source": [
    "df['next_pymnt_d_date'] = pd.to_datetime(df['next_pymnt_d'], format='%b-%y')\n",
    "df['mths_next_pymnt_d'] = round(pd.to_numeric((pd.to_datetime('2017-12-31') - df['next_pymnt_d_date']) / np.timedelta64(1, 'M')))"
   ]
  },
  {
   "cell_type": "code",
   "execution_count": 40,
   "id": "4899781a-e551-4d97-b765-327bab93c6a7",
   "metadata": {},
   "outputs": [],
   "source": [
    "df.drop(['next_pymnt_d', 'next_pymnt_d_date'], axis=1, inplace=True)"
   ]
  },
  {
   "cell_type": "code",
   "execution_count": 41,
   "id": "35163347-7549-4155-a660-216ad78738b4",
   "metadata": {},
   "outputs": [
    {
     "data": {
      "text/plain": [
       "count    239071.000000\n",
       "mean         23.738136\n",
       "std           6.082298\n",
       "min          22.000000\n",
       "25%          23.000000\n",
       "50%          23.000000\n",
       "75%          23.000000\n",
       "max         121.000000\n",
       "Name: mths_next_pymnt_d, dtype: float64"
      ]
     },
     "execution_count": 41,
     "metadata": {},
     "output_type": "execute_result"
    }
   ],
   "source": [
    "df['mths_next_pymnt_d'].describe()"
   ]
  },
  {
   "cell_type": "markdown",
   "id": "53c9709a-32a6-4db1-b216-a2964787898b",
   "metadata": {},
   "source": [
    "### last_credit_pull_d"
   ]
  },
  {
   "cell_type": "code",
   "execution_count": 42,
   "id": "b38f755d-aa92-4c3d-9e31-33b56ad55f7e",
   "metadata": {},
   "outputs": [],
   "source": [
    "df['last_credit_pull_d_date'] = pd.to_datetime(df['last_credit_pull_d'], format='%b-%y')\n",
    "df['mths_last_credit_pull_d'] = round(pd.to_numeric((pd.to_datetime('2017-12-31') - df['last_credit_pull_d_date']) / np.timedelta64(1, 'M')))"
   ]
  },
  {
   "cell_type": "code",
   "execution_count": 43,
   "id": "b634b50f-b64f-4c05-b838-6428b86de373",
   "metadata": {},
   "outputs": [],
   "source": [
    "df.drop(['last_credit_pull_d', 'last_credit_pull_d_date'], axis=1, inplace=True)"
   ]
  },
  {
   "cell_type": "code",
   "execution_count": 44,
   "id": "b59c8dd1-cb94-4ced-be0d-863378ae9a82",
   "metadata": {},
   "outputs": [
    {
     "data": {
      "text/plain": [
       "count    466243.000000\n",
       "mean         28.045588\n",
       "std           9.636423\n",
       "min          24.000000\n",
       "25%          24.000000\n",
       "50%          24.000000\n",
       "75%          26.000000\n",
       "max         128.000000\n",
       "Name: mths_last_credit_pull_d, dtype: float64"
      ]
     },
     "execution_count": 44,
     "metadata": {},
     "output_type": "execute_result"
    }
   ],
   "source": [
    "df['mths_last_credit_pull_d'].describe()"
   ]
  },
  {
   "cell_type": "markdown",
   "id": "1e78a7f0-2686-4e33-9fb6-b62fd032b0fc",
   "metadata": {},
   "source": [
    "## Handling Missing Values"
   ]
  },
  {
   "cell_type": "markdown",
   "id": "b49134d0-65c8-42a1-92b2-4bd30af4d20d",
   "metadata": {},
   "source": [
    "### Check Missing Values"
   ]
  },
  {
   "cell_type": "code",
   "execution_count": 45,
   "id": "3089f18d-d468-4280-bd29-74ea914c7a12",
   "metadata": {},
   "outputs": [
    {
     "data": {
      "text/plain": [
       "mths_since_last_record         86.566585\n",
       "mths_since_last_major_derog    78.773926\n",
       "mths_since_last_delinq         53.690554\n",
       "mths_next_pymnt_d              48.728567\n",
       "total_rev_hi_lim               15.071469\n",
       "tot_cur_bal                    15.071469\n",
       "tot_coll_amt                   15.071469\n",
       "emp_title                       5.916553\n",
       "emp_length                      4.505399\n",
       "mths_last_pymnt_d               0.080637\n",
       "revol_util                      0.072917\n",
       "collections_12_mths_ex_med      0.031097\n",
       "mths_last_credit_pull_d         0.009007\n",
       "pub_rec                         0.006219\n",
       "acc_now_delinq                  0.006219\n",
       "open_acc                        0.006219\n",
       "inq_last_6mths                  0.006219\n",
       "delinq_2yrs                     0.006219\n",
       "mths_earliest_cr_line           0.006219\n",
       "total_acc                       0.006219\n",
       "title                           0.004289\n",
       "annual_inc                      0.000858\n",
       "dtype: float64"
      ]
     },
     "execution_count": 45,
     "metadata": {},
     "output_type": "execute_result"
    }
   ],
   "source": [
    "# print the name of columns with missing values (so I can copy paste :D)\n",
    "missing = df.isnull().sum() * 100 / df.shape[0]\n",
    "missing[missing > 0].sort_values(ascending=False)"
   ]
  },
  {
   "cell_type": "code",
   "execution_count": 46,
   "id": "2671974c-51b5-48f6-bdaf-25b4e9314413",
   "metadata": {},
   "outputs": [],
   "source": [
    "df.drop(['mths_since_last_record', 'mths_since_last_major_derog'], axis=1, inplace=True)"
   ]
  },
  {
   "cell_type": "markdown",
   "id": "5e424592-ad4c-493c-81e1-606f18588802",
   "metadata": {},
   "source": [
    "### Filling Missing Values"
   ]
  },
  {
   "cell_type": "code",
   "execution_count": 47,
   "id": "851dfb0e-21b5-4822-b689-d4f7a7ef6938",
   "metadata": {},
   "outputs": [],
   "source": [
    "df['annual_inc'].fillna(df['annual_inc'].mean(), inplace=True)\n",
    "df['mths_earliest_cr_line'].fillna(0, inplace=True)\n",
    "df['acc_now_delinq'].fillna(0, inplace=True)\n",
    "df['total_acc'].fillna(0, inplace=True)\n",
    "df['pub_rec'].fillna(0, inplace=True)\n",
    "df['open_acc'].fillna(0, inplace=True)\n",
    "df['inq_last_6mths'].fillna(0, inplace=True)\n",
    "df['delinq_2yrs'].fillna(0, inplace=True)\n",
    "df['collections_12_mths_ex_med'].fillna(0, inplace=True)\n",
    "df['revol_util'].fillna(0, inplace=True)\n",
    "df['emp_length'].fillna(0, inplace=True)\n",
    "df['tot_cur_bal'].fillna(0, inplace=True)\n",
    "df['tot_coll_amt'].fillna(0, inplace=True)\n",
    "df['mths_since_last_delinq'].fillna(-1, inplace=True)"
   ]
  },
  {
   "cell_type": "markdown",
   "id": "a9755f46-df32-44e8-8076-7d5fdfd4faef",
   "metadata": {},
   "source": [
    "# Exploratory Data Analysis"
   ]
  },
  {
   "cell_type": "markdown",
   "id": "400e3259-2be8-43ab-b04e-8138f313a25c",
   "metadata": {},
   "source": [
    "## Correlation Check"
   ]
  },
  {
   "cell_type": "code",
   "execution_count": 48,
   "id": "dbcda00d-df0c-4557-9c77-2396be24b294",
   "metadata": {},
   "outputs": [
    {
     "data": {
      "text/plain": [
       "<AxesSubplot:>"
      ]
     },
     "execution_count": 48,
     "metadata": {},
     "output_type": "execute_result"
    },
    {
     "data": {
      "image/png": "[encoded data removed]",
      "text/plain": [
       "<Figure size 1440x1440 with 2 Axes>"
      ]
     },
     "metadata": {
      "needs_background": "light"
     },
     "output_type": "display_data"
    }
   ],
   "source": [
    "plt.figure(figsize=(20,20))\n",
    "sns.heatmap(df.corr())"
   ]
  },
  {
   "cell_type": "code",
   "execution_count": 49,
   "id": "2f00b665-b0fa-480d-abfe-a561544602f5",
   "metadata": {},
   "outputs": [],
   "source": [
    "corr_matrix = df.corr().abs()\n",
    "upper = corr_matrix.where(np.triu(np.ones(corr_matrix.shape), k=1).astype(np.bool))\n",
    "to_drop_hicorr = [column for column in upper.columns if any(upper[column] > 0.7)]"
   ]
  },
  {
   "cell_type": "code",
   "execution_count": 50,
   "id": "77b8092c-48f6-4d1b-819b-6d8e8f67fb6b",
   "metadata": {},
   "outputs": [
    {
     "data": {
      "text/plain": [
       "['funded_amnt',\n",
       " 'funded_amnt_inv',\n",
       " 'installment',\n",
       " 'out_prncp_inv',\n",
       " 'total_pymnt',\n",
       " 'total_pymnt_inv',\n",
       " 'total_rec_prncp',\n",
       " 'total_rec_int',\n",
       " 'collection_recovery_fee',\n",
       " 'last_pymnt_amnt',\n",
       " 'total_rev_hi_lim',\n",
       " 'mths_last_pymnt_d',\n",
       " 'mths_next_pymnt_d',\n",
       " 'mths_last_credit_pull_d']"
      ]
     },
     "execution_count": 50,
     "metadata": {},
     "output_type": "execute_result"
    }
   ],
   "source": [
    "to_drop_hicorr"
   ]
  },
  {
   "cell_type": "code",
   "execution_count": 51,
   "id": "839e1153-b22e-499e-890d-9e614adb9143",
   "metadata": {},
   "outputs": [],
   "source": [
    "df.drop(to_drop_hicorr, axis=1, inplace=True)"
   ]
  },
  {
   "cell_type": "markdown",
   "id": "56e30a6f-5a65-4ae5-a719-82fad66773e4",
   "metadata": {},
   "source": [
    "## Features Categorization"
   ]
  },
  {
   "cell_type": "code",
   "execution_count": 52,
   "id": "c382be4d-ef1e-43f1-9825-03ead9d0263b",
   "metadata": {},
   "outputs": [
    {
     "data": {
      "text/plain": [
       "grade                       7\n",
       "emp_title              205475\n",
       "home_ownership              6\n",
       "verification_status         3\n",
       "pymnt_plan                  2\n",
       "purpose                    14\n",
       "title                   63099\n",
       "addr_state                 50\n",
       "initial_list_status         2\n",
       "application_type            1\n",
       "dtype: int64"
      ]
     },
     "execution_count": 52,
     "metadata": {},
     "output_type": "execute_result"
    }
   ],
   "source": [
    "categorical = df.select_dtypes(include='object').nunique()\n",
    "categorical"
   ]
  },
  {
   "cell_type": "code",
   "execution_count": 53,
   "id": "715ecd89-386d-49bc-8eef-676888badb82",
   "metadata": {},
   "outputs": [],
   "source": [
    "df.drop(['emp_title', 'title', 'application_type'], axis=1, inplace=True)"
   ]
  },
  {
   "cell_type": "code",
   "execution_count": 54,
   "id": "9dd8c462-7008-424d-9ccc-5140481783ec",
   "metadata": {},
   "outputs": [
    {
     "data": {
      "text/plain": [
       "loan_amnt                       1352\n",
       "term                               2\n",
       "int_rate                         506\n",
       "emp_length                        11\n",
       "annual_inc                     31902\n",
       "dti                             3997\n",
       "delinq_2yrs                       24\n",
       "inq_last_6mths                    28\n",
       "mths_since_last_delinq           146\n",
       "open_acc                          62\n",
       "pub_rec                           26\n",
       "revol_bal                      58142\n",
       "revol_util                      1269\n",
       "total_acc                        113\n",
       "out_prncp                     135665\n",
       "total_rec_late_fee              5808\n",
       "recoveries                     22773\n",
       "collections_12_mths_ex_med         9\n",
       "policy_code                        1\n",
       "acc_now_delinq                     6\n",
       "tot_coll_amt                    6321\n",
       "tot_cur_bal                   220690\n",
       "bad_credit                         2\n",
       "mths_earliest_cr_line            516\n",
       "mths_issue_d                      91\n",
       "dtype: int64"
      ]
     },
     "execution_count": 54,
     "metadata": {},
     "output_type": "execute_result"
    }
   ],
   "source": [
    "numerical = df.select_dtypes(exclude='object').nunique()\n",
    "numerical"
   ]
  },
  {
   "cell_type": "code",
   "execution_count": 55,
   "id": "8b59200b-f5c6-4531-9fa0-388e0c019b21",
   "metadata": {},
   "outputs": [],
   "source": [
    "df.drop(['policy_code'], axis=1, inplace=True)"
   ]
  },
  {
   "cell_type": "code",
   "execution_count": 56,
   "id": "744c9fb1-2dbf-485b-a5a1-253ff1dfbda9",
   "metadata": {},
   "outputs": [
    {
     "name": "stdout",
     "output_type": "stream",
     "text": [
      "B    29.365946\n",
      "C    26.870476\n",
      "D    16.489486\n",
      "A    16.056060\n",
      "E     7.668486\n",
      "F     2.837106\n",
      "G     0.712440\n",
      "Name: grade, dtype: float64\n",
      "\n",
      "\n",
      "MORTGAGE    50.586015\n",
      "RENT        40.420129\n",
      "OWN          8.943886\n",
      "OTHER        0.039032\n",
      "NONE         0.010723\n",
      "ANY          0.000214\n",
      "Name: home_ownership, dtype: float64\n",
      "\n",
      "\n",
      "Verified           36.041262\n",
      "Source Verified    32.167666\n",
      "Not Verified       31.791072\n",
      "Name: verification_status, dtype: float64\n",
      "\n",
      "\n",
      "n    99.99807\n",
      "y     0.00193\n",
      "Name: pymnt_plan, dtype: float64\n",
      "\n",
      "\n",
      "debt_consolidation    58.804165\n",
      "credit_card           22.337626\n",
      "home_improvement       5.691155\n",
      "other                  5.080584\n",
      "major_purchase         2.107724\n",
      "small_business         1.504016\n",
      "car                    1.157447\n",
      "medical                0.986950\n",
      "moving                 0.642097\n",
      "vacation               0.533365\n",
      "wedding                0.502482\n",
      "house                  0.486612\n",
      "educational            0.090503\n",
      "renewable_energy       0.075276\n",
      "Name: purpose, dtype: float64\n",
      "\n",
      "\n",
      "CA    15.323247\n",
      "NY     8.630344\n",
      "TX     7.814748\n",
      "FL     6.784906\n",
      "IL     3.991550\n",
      "NJ     3.873382\n",
      "PA     3.522309\n",
      "OH     3.267744\n",
      "GA     3.211555\n",
      "VA     3.050066\n",
      "NC     2.719796\n",
      "MI     2.476811\n",
      "MA     2.374513\n",
      "MD     2.353496\n",
      "AZ     2.297307\n",
      "WA     2.255488\n",
      "CO     2.088637\n",
      "MN     1.749574\n",
      "MO     1.610174\n",
      "CT     1.544978\n",
      "IN     1.399359\n",
      "NV     1.398072\n",
      "TN     1.283335\n",
      "OR     1.275829\n",
      "WI     1.267680\n",
      "AL     1.255241\n",
      "SC     1.197336\n",
      "LA     1.177177\n",
      "KY     0.951778\n",
      "KS     0.898592\n",
      "OK     0.882936\n",
      "AR     0.748040\n",
      "UT     0.735173\n",
      "NM     0.555025\n",
      "HI     0.533365\n",
      "WV     0.517280\n",
      "NH     0.478677\n",
      "RI     0.439645\n",
      "DC     0.305822\n",
      "MT     0.299388\n",
      "DE     0.272795\n",
      "AK     0.268291\n",
      "MS     0.262929\n",
      "WY     0.241912\n",
      "SD     0.210172\n",
      "VT     0.194087\n",
      "IA     0.003002\n",
      "NE     0.003002\n",
      "ID     0.002574\n",
      "ME     0.000858\n",
      "Name: addr_state, dtype: float64\n",
      "\n",
      "\n",
      "f    64.982789\n",
      "w    35.017211\n",
      "Name: initial_list_status, dtype: float64\n",
      "\n",
      "\n"
     ]
    }
   ],
   "source": [
    "for col in df.select_dtypes(include='object').columns.tolist():\n",
    "    print(df[col].value_counts(normalize=True)*100)\n",
    "    print('\\n')"
   ]
  },
  {
   "cell_type": "code",
   "execution_count": 57,
   "id": "1f3d2d18-db1b-4b2c-b793-fa80c08b5ae1",
   "metadata": {},
   "outputs": [],
   "source": [
    "df.drop('pymnt_plan', axis=1, inplace=True)"
   ]
  },
  {
   "cell_type": "markdown",
   "id": "5e3e93ee-7876-4e60-8bc2-947205889097",
   "metadata": {},
   "source": [
    "# Feature Scaling & Transformation"
   ]
  },
  {
   "cell_type": "markdown",
   "id": "824a0896-8549-49c7-9049-c6edf3b186ba",
   "metadata": {},
   "source": [
    "## One Hot Encoding"
   ]
  },
  {
   "cell_type": "code",
   "execution_count": 58,
   "id": "6a5d8240-dd3f-4061-856d-5cd129cf9312",
   "metadata": {},
   "outputs": [],
   "source": [
    "categorical = [col for col in df.select_dtypes(include='object').columns.tolist()]"
   ]
  },
  {
   "cell_type": "code",
   "execution_count": 59,
   "id": "9988fd64-eb85-4bf3-8d1b-bfc6224bb9cd",
   "metadata": {},
   "outputs": [],
   "source": [
    "onehot = pd.get_dummies(df[categorical], drop_first=True)"
   ]
  },
  {
   "cell_type": "code",
   "execution_count": 60,
   "id": "a4b53bf9-c2a4-455d-8717-b80831ca8b2b",
   "metadata": {},
   "outputs": [
    {
     "data": {
      "text/html": [
       "<div>\n",
       "<style scoped>\n",
       "    .dataframe tbody tr th:only-of-type {\n",
       "        vertical-align: middle;\n",
       "    }\n",
       "\n",
       "    .dataframe tbody tr th {\n",
       "        vertical-align: top;\n",
       "    }\n",
       "\n",
       "    .dataframe thead th {\n",
       "        text-align: right;\n",
       "    }\n",
       "</style>\n",
       "<table border=\"1\" class=\"dataframe\">\n",
       "  <thead>\n",
       "    <tr style=\"text-align: right;\">\n",
       "      <th></th>\n",
       "      <th>grade_B</th>\n",
       "      <th>grade_C</th>\n",
       "      <th>grade_D</th>\n",
       "      <th>grade_E</th>\n",
       "      <th>grade_F</th>\n",
       "      <th>grade_G</th>\n",
       "      <th>home_ownership_MORTGAGE</th>\n",
       "      <th>home_ownership_NONE</th>\n",
       "      <th>home_ownership_OTHER</th>\n",
       "      <th>home_ownership_OWN</th>\n",
       "      <th>...</th>\n",
       "      <th>addr_state_TN</th>\n",
       "      <th>addr_state_TX</th>\n",
       "      <th>addr_state_UT</th>\n",
       "      <th>addr_state_VA</th>\n",
       "      <th>addr_state_VT</th>\n",
       "      <th>addr_state_WA</th>\n",
       "      <th>addr_state_WI</th>\n",
       "      <th>addr_state_WV</th>\n",
       "      <th>addr_state_WY</th>\n",
       "      <th>initial_list_status_w</th>\n",
       "    </tr>\n",
       "  </thead>\n",
       "  <tbody>\n",
       "    <tr>\n",
       "      <th>0</th>\n",
       "      <td>1</td>\n",
       "      <td>0</td>\n",
       "      <td>0</td>\n",
       "      <td>0</td>\n",
       "      <td>0</td>\n",
       "      <td>0</td>\n",
       "      <td>0</td>\n",
       "      <td>0</td>\n",
       "      <td>0</td>\n",
       "      <td>0</td>\n",
       "      <td>...</td>\n",
       "      <td>0</td>\n",
       "      <td>0</td>\n",
       "      <td>0</td>\n",
       "      <td>0</td>\n",
       "      <td>0</td>\n",
       "      <td>0</td>\n",
       "      <td>0</td>\n",
       "      <td>0</td>\n",
       "      <td>0</td>\n",
       "      <td>0</td>\n",
       "    </tr>\n",
       "    <tr>\n",
       "      <th>1</th>\n",
       "      <td>0</td>\n",
       "      <td>1</td>\n",
       "      <td>0</td>\n",
       "      <td>0</td>\n",
       "      <td>0</td>\n",
       "      <td>0</td>\n",
       "      <td>0</td>\n",
       "      <td>0</td>\n",
       "      <td>0</td>\n",
       "      <td>0</td>\n",
       "      <td>...</td>\n",
       "      <td>0</td>\n",
       "      <td>0</td>\n",
       "      <td>0</td>\n",
       "      <td>0</td>\n",
       "      <td>0</td>\n",
       "      <td>0</td>\n",
       "      <td>0</td>\n",
       "      <td>0</td>\n",
       "      <td>0</td>\n",
       "      <td>0</td>\n",
       "    </tr>\n",
       "    <tr>\n",
       "      <th>2</th>\n",
       "      <td>0</td>\n",
       "      <td>1</td>\n",
       "      <td>0</td>\n",
       "      <td>0</td>\n",
       "      <td>0</td>\n",
       "      <td>0</td>\n",
       "      <td>0</td>\n",
       "      <td>0</td>\n",
       "      <td>0</td>\n",
       "      <td>0</td>\n",
       "      <td>...</td>\n",
       "      <td>0</td>\n",
       "      <td>0</td>\n",
       "      <td>0</td>\n",
       "      <td>0</td>\n",
       "      <td>0</td>\n",
       "      <td>0</td>\n",
       "      <td>0</td>\n",
       "      <td>0</td>\n",
       "      <td>0</td>\n",
       "      <td>0</td>\n",
       "    </tr>\n",
       "    <tr>\n",
       "      <th>3</th>\n",
       "      <td>0</td>\n",
       "      <td>1</td>\n",
       "      <td>0</td>\n",
       "      <td>0</td>\n",
       "      <td>0</td>\n",
       "      <td>0</td>\n",
       "      <td>0</td>\n",
       "      <td>0</td>\n",
       "      <td>0</td>\n",
       "      <td>0</td>\n",
       "      <td>...</td>\n",
       "      <td>0</td>\n",
       "      <td>0</td>\n",
       "      <td>0</td>\n",
       "      <td>0</td>\n",
       "      <td>0</td>\n",
       "      <td>0</td>\n",
       "      <td>0</td>\n",
       "      <td>0</td>\n",
       "      <td>0</td>\n",
       "      <td>0</td>\n",
       "    </tr>\n",
       "    <tr>\n",
       "      <th>4</th>\n",
       "      <td>1</td>\n",
       "      <td>0</td>\n",
       "      <td>0</td>\n",
       "      <td>0</td>\n",
       "      <td>0</td>\n",
       "      <td>0</td>\n",
       "      <td>0</td>\n",
       "      <td>0</td>\n",
       "      <td>0</td>\n",
       "      <td>0</td>\n",
       "      <td>...</td>\n",
       "      <td>0</td>\n",
       "      <td>0</td>\n",
       "      <td>0</td>\n",
       "      <td>0</td>\n",
       "      <td>0</td>\n",
       "      <td>0</td>\n",
       "      <td>0</td>\n",
       "      <td>0</td>\n",
       "      <td>0</td>\n",
       "      <td>0</td>\n",
       "    </tr>\n",
       "  </tbody>\n",
       "</table>\n",
       "<p>5 rows × 76 columns</p>\n",
       "</div>"
      ],
      "text/plain": [
       "   grade_B  grade_C  grade_D  grade_E  grade_F  grade_G  \\\n",
       "0        1        0        0        0        0        0   \n",
       "1        0        1        0        0        0        0   \n",
       "2        0        1        0        0        0        0   \n",
       "3        0        1        0        0        0        0   \n",
       "4        1        0        0        0        0        0   \n",
       "\n",
       "   home_ownership_MORTGAGE  home_ownership_NONE  home_ownership_OTHER  \\\n",
       "0                        0                    0                     0   \n",
       "1                        0                    0                     0   \n",
       "2                        0                    0                     0   \n",
       "3                        0                    0                     0   \n",
       "4                        0                    0                     0   \n",
       "\n",
       "   home_ownership_OWN  ...  addr_state_TN  addr_state_TX  addr_state_UT  \\\n",
       "0                   0  ...              0              0              0   \n",
       "1                   0  ...              0              0              0   \n",
       "2                   0  ...              0              0              0   \n",
       "3                   0  ...              0              0              0   \n",
       "4                   0  ...              0              0              0   \n",
       "\n",
       "   addr_state_VA  addr_state_VT  addr_state_WA  addr_state_WI  addr_state_WV  \\\n",
       "0              0              0              0              0              0   \n",
       "1              0              0              0              0              0   \n",
       "2              0              0              0              0              0   \n",
       "3              0              0              0              0              0   \n",
       "4              0              0              0              0              0   \n",
       "\n",
       "   addr_state_WY  initial_list_status_w  \n",
       "0              0                      0  \n",
       "1              0                      0  \n",
       "2              0                      0  \n",
       "3              0                      0  \n",
       "4              0                      0  \n",
       "\n",
       "[5 rows x 76 columns]"
      ]
     },
     "execution_count": 60,
     "metadata": {},
     "output_type": "execute_result"
    }
   ],
   "source": [
    "onehot.head()"
   ]
  },
  {
   "cell_type": "markdown",
   "id": "47506dd5-5f27-4b26-9f53-751b1fd72a57",
   "metadata": {},
   "source": [
    "## Standardization"
   ]
  },
  {
   "cell_type": "code",
   "execution_count": 61,
   "id": "2ef36f20-3034-4e98-b251-b3cf6c49f748",
   "metadata": {},
   "outputs": [],
   "source": [
    "numerical = [col for col in df.columns.tolist() if col not in categorical + ['bad_credit']]"
   ]
  },
  {
   "cell_type": "code",
   "execution_count": 62,
   "id": "aa2bfdb3-bda5-4e71-bc70-a950df2d12d5",
   "metadata": {},
   "outputs": [],
   "source": [
    "from sklearn.preprocessing import StandardScaler\n",
    "\n",
    "ss = StandardScaler()\n",
    "std = pd.DataFrame(ss.fit_transform(df[numerical]), columns=numerical)"
   ]
  },
  {
   "cell_type": "code",
   "execution_count": 63,
   "id": "01317ee4-ffa5-4c05-b731-a039c86187a1",
   "metadata": {},
   "outputs": [
    {
     "data": {
      "text/html": [
       "<div>\n",
       "<style scoped>\n",
       "    .dataframe tbody tr th:only-of-type {\n",
       "        vertical-align: middle;\n",
       "    }\n",
       "\n",
       "    .dataframe tbody tr th {\n",
       "        vertical-align: top;\n",
       "    }\n",
       "\n",
       "    .dataframe thead th {\n",
       "        text-align: right;\n",
       "    }\n",
       "</style>\n",
       "<table border=\"1\" class=\"dataframe\">\n",
       "  <thead>\n",
       "    <tr style=\"text-align: right;\">\n",
       "      <th></th>\n",
       "      <th>loan_amnt</th>\n",
       "      <th>term</th>\n",
       "      <th>int_rate</th>\n",
       "      <th>emp_length</th>\n",
       "      <th>annual_inc</th>\n",
       "      <th>dti</th>\n",
       "      <th>delinq_2yrs</th>\n",
       "      <th>inq_last_6mths</th>\n",
       "      <th>mths_since_last_delinq</th>\n",
       "      <th>open_acc</th>\n",
       "      <th>...</th>\n",
       "      <th>total_acc</th>\n",
       "      <th>out_prncp</th>\n",
       "      <th>total_rec_late_fee</th>\n",
       "      <th>recoveries</th>\n",
       "      <th>collections_12_mths_ex_med</th>\n",
       "      <th>acc_now_delinq</th>\n",
       "      <th>tot_coll_amt</th>\n",
       "      <th>tot_cur_bal</th>\n",
       "      <th>mths_earliest_cr_line</th>\n",
       "      <th>mths_issue_d</th>\n",
       "    </tr>\n",
       "  </thead>\n",
       "  <tbody>\n",
       "    <tr>\n",
       "      <th>0</th>\n",
       "      <td>-1.124392</td>\n",
       "      <td>-0.616225</td>\n",
       "      <td>-0.729587</td>\n",
       "      <td>1.138605</td>\n",
       "      <td>-0.896551</td>\n",
       "      <td>1.328632</td>\n",
       "      <td>-0.357012</td>\n",
       "      <td>0.178920</td>\n",
       "      <td>-0.708792</td>\n",
       "      <td>-1.641166</td>\n",
       "      <td>...</td>\n",
       "      <td>-1.384557</td>\n",
       "      <td>-0.693944</td>\n",
       "      <td>-0.123464</td>\n",
       "      <td>-0.154549</td>\n",
       "      <td>-0.083608</td>\n",
       "      <td>-0.058307</td>\n",
       "      <td>-0.012089</td>\n",
       "      <td>-0.792648</td>\n",
       "      <td>1.764938</td>\n",
       "      <td>1.446626</td>\n",
       "    </tr>\n",
       "    <tr>\n",
       "      <th>1</th>\n",
       "      <td>-1.426088</td>\n",
       "      <td>1.622784</td>\n",
       "      <td>0.330634</td>\n",
       "      <td>-1.523744</td>\n",
       "      <td>-0.787387</td>\n",
       "      <td>-2.065791</td>\n",
       "      <td>-0.357012</td>\n",
       "      <td>3.843328</td>\n",
       "      <td>-0.708792</td>\n",
       "      <td>-1.641166</td>\n",
       "      <td>...</td>\n",
       "      <td>-1.815538</td>\n",
       "      <td>-0.693944</td>\n",
       "      <td>-0.123464</td>\n",
       "      <td>0.057470</td>\n",
       "      <td>-0.083608</td>\n",
       "      <td>-0.058307</td>\n",
       "      <td>-0.012089</td>\n",
       "      <td>-0.792648</td>\n",
       "      <td>-0.212425</td>\n",
       "      <td>1.446626</td>\n",
       "    </tr>\n",
       "    <tr>\n",
       "      <th>2</th>\n",
       "      <td>-1.438156</td>\n",
       "      <td>-0.616225</td>\n",
       "      <td>0.488979</td>\n",
       "      <td>1.138605</td>\n",
       "      <td>-1.110294</td>\n",
       "      <td>-1.082491</td>\n",
       "      <td>-0.357012</td>\n",
       "      <td>1.095022</td>\n",
       "      <td>-0.708792</td>\n",
       "      <td>-1.841641</td>\n",
       "      <td>...</td>\n",
       "      <td>-1.298361</td>\n",
       "      <td>-0.693944</td>\n",
       "      <td>-0.123464</td>\n",
       "      <td>-0.154549</td>\n",
       "      <td>-0.083608</td>\n",
       "      <td>-0.058307</td>\n",
       "      <td>-0.012089</td>\n",
       "      <td>-0.792648</td>\n",
       "      <td>-0.570894</td>\n",
       "      <td>1.446626</td>\n",
       "    </tr>\n",
       "    <tr>\n",
       "      <th>3</th>\n",
       "      <td>-0.521001</td>\n",
       "      <td>-0.616225</td>\n",
       "      <td>-0.077850</td>\n",
       "      <td>1.138605</td>\n",
       "      <td>-0.438063</td>\n",
       "      <td>0.354248</td>\n",
       "      <td>-0.357012</td>\n",
       "      <td>0.178920</td>\n",
       "      <td>0.860811</td>\n",
       "      <td>-0.237839</td>\n",
       "      <td>...</td>\n",
       "      <td>1.028934</td>\n",
       "      <td>-0.693944</td>\n",
       "      <td>3.099264</td>\n",
       "      <td>-0.154549</td>\n",
       "      <td>-0.083608</td>\n",
       "      <td>-0.058307</td>\n",
       "      <td>-0.012089</td>\n",
       "      <td>-0.792648</td>\n",
       "      <td>0.226989</td>\n",
       "      <td>1.446626</td>\n",
       "    </tr>\n",
       "    <tr>\n",
       "      <th>4</th>\n",
       "      <td>-1.365749</td>\n",
       "      <td>1.622784</td>\n",
       "      <td>-0.261438</td>\n",
       "      <td>-1.257509</td>\n",
       "      <td>0.122311</td>\n",
       "      <td>0.091865</td>\n",
       "      <td>-0.357012</td>\n",
       "      <td>-0.737182</td>\n",
       "      <td>0.991612</td>\n",
       "      <td>0.764538</td>\n",
       "      <td>...</td>\n",
       "      <td>1.115130</td>\n",
       "      <td>-0.573268</td>\n",
       "      <td>-0.123464</td>\n",
       "      <td>-0.154549</td>\n",
       "      <td>-0.083608</td>\n",
       "      <td>-0.058307</td>\n",
       "      <td>-0.012089</td>\n",
       "      <td>-0.792648</td>\n",
       "      <td>0.238553</td>\n",
       "      <td>1.446626</td>\n",
       "    </tr>\n",
       "  </tbody>\n",
       "</table>\n",
       "<p>5 rows × 23 columns</p>\n",
       "</div>"
      ],
      "text/plain": [
       "   loan_amnt      term  int_rate  emp_length  annual_inc       dti  \\\n",
       "0  -1.124392 -0.616225 -0.729587    1.138605   -0.896551  1.328632   \n",
       "1  -1.426088  1.622784  0.330634   -1.523744   -0.787387 -2.065791   \n",
       "2  -1.438156 -0.616225  0.488979    1.138605   -1.110294 -1.082491   \n",
       "3  -0.521001 -0.616225 -0.077850    1.138605   -0.438063  0.354248   \n",
       "4  -1.365749  1.622784 -0.261438   -1.257509    0.122311  0.091865   \n",
       "\n",
       "   delinq_2yrs  inq_last_6mths  mths_since_last_delinq  open_acc  ...  \\\n",
       "0    -0.357012        0.178920               -0.708792 -1.641166  ...   \n",
       "1    -0.357012        3.843328               -0.708792 -1.641166  ...   \n",
       "2    -0.357012        1.095022               -0.708792 -1.841641  ...   \n",
       "3    -0.357012        0.178920                0.860811 -0.237839  ...   \n",
       "4    -0.357012       -0.737182                0.991612  0.764538  ...   \n",
       "\n",
       "   total_acc  out_prncp  total_rec_late_fee  recoveries  \\\n",
       "0  -1.384557  -0.693944           -0.123464   -0.154549   \n",
       "1  -1.815538  -0.693944           -0.123464    0.057470   \n",
       "2  -1.298361  -0.693944           -0.123464   -0.154549   \n",
       "3   1.028934  -0.693944            3.099264   -0.154549   \n",
       "4   1.115130  -0.573268           -0.123464   -0.154549   \n",
       "\n",
       "   collections_12_mths_ex_med  acc_now_delinq  tot_coll_amt  tot_cur_bal  \\\n",
       "0                   -0.083608       -0.058307     -0.012089    -0.792648   \n",
       "1                   -0.083608       -0.058307     -0.012089    -0.792648   \n",
       "2                   -0.083608       -0.058307     -0.012089    -0.792648   \n",
       "3                   -0.083608       -0.058307     -0.012089    -0.792648   \n",
       "4                   -0.083608       -0.058307     -0.012089    -0.792648   \n",
       "\n",
       "   mths_earliest_cr_line  mths_issue_d  \n",
       "0               1.764938      1.446626  \n",
       "1              -0.212425      1.446626  \n",
       "2              -0.570894      1.446626  \n",
       "3               0.226989      1.446626  \n",
       "4               0.238553      1.446626  \n",
       "\n",
       "[5 rows x 23 columns]"
      ]
     },
     "execution_count": 63,
     "metadata": {},
     "output_type": "execute_result"
    }
   ],
   "source": [
    "std.head()"
   ]
  },
  {
   "cell_type": "markdown",
   "id": "fb5a8199-3b71-459b-842c-c2d7c29a6315",
   "metadata": {},
   "source": [
    "## Transformed Data"
   ]
  },
  {
   "cell_type": "code",
   "execution_count": 64,
   "id": "5659a908-3962-48f0-a12d-846042f2db0c",
   "metadata": {},
   "outputs": [],
   "source": [
    "df_model = pd.concat([onehot, std, df[['bad_credit']]], axis=1)"
   ]
  },
  {
   "cell_type": "markdown",
   "id": "666e9011-2e49-4045-8e64-95f965b12105",
   "metadata": {},
   "source": [
    "# Train Test Split"
   ]
  },
  {
   "cell_type": "code",
   "execution_count": 65,
   "id": "66618f19-40c4-404c-8837-af342be243db",
   "metadata": {},
   "outputs": [],
   "source": [
    "from sklearn.model_selection import train_test_split"
   ]
  },
  {
   "cell_type": "code",
   "execution_count": 66,
   "id": "6a543999-f667-43ba-b735-7218eb7b846b",
   "metadata": {},
   "outputs": [],
   "source": [
    "X = df_model.drop('bad_credit', axis=1)\n",
    "y = df_model['bad_credit']\n",
    "\n",
    "X_train, X_test, y_train, y_test = train_test_split(X, y, test_size=0.2, random_state=42)"
   ]
  },
  {
   "cell_type": "code",
   "execution_count": 67,
   "id": "13554489-7ac3-40fd-94c4-87be1681727f",
   "metadata": {},
   "outputs": [
    {
     "data": {
      "text/plain": [
       "((373028, 99), (93257, 99))"
      ]
     },
     "execution_count": 67,
     "metadata": {},
     "output_type": "execute_result"
    }
   ],
   "source": [
    "X_train.shape, X_test.shape"
   ]
  },
  {
   "cell_type": "markdown",
   "id": "d4ec0a5c-bd15-4be7-9b23-555c55083954",
   "metadata": {},
   "source": [
    "# Machine Learning"
   ]
  },
  {
   "cell_type": "markdown",
   "id": "cfbe9902-ea08-4304-b2d5-548de296d955",
   "metadata": {},
   "source": [
    "## Modeling"
   ]
  },
  {
   "cell_type": "code",
   "execution_count": 68,
   "id": "cb52bd7d-4320-4dce-aca9-51044a0b0d79",
   "metadata": {},
   "outputs": [],
   "source": [
    "from sklearn.tree import DecisionTreeClassifier\n",
    "from sklearn.ensemble import RandomForestClassifier\n",
    "from sklearn.linear_model import LogisticRegression\n",
    "\n",
    "from sklearn.metrics import accuracy_score, recall_score, precision_score, f1_score, roc_auc_score\n",
    "from sklearn.metrics import roc_curve, auc\n",
    "from scipy.stats import kstest\n",
    "from sklearn.metrics import confusion_matrix,ConfusionMatrixDisplay"
   ]
  },
  {
   "cell_type": "markdown",
   "id": "2197f750-b4bc-4c7a-a1f3-cf14f4164256",
   "metadata": {},
   "source": [
    "## Fucntion for Evaluation"
   ]
  },
  {
   "cell_type": "code",
   "execution_count": 69,
   "id": "c7794573-5114-4137-b8b5-05b2da725bdb",
   "metadata": {},
   "outputs": [],
   "source": [
    "def evaluation(X_train,X_test,y_train,y_test):\n",
    "    \"\"\"\n",
    "    This function want to do an experiment for several models.\n",
    "    We just need data input\n",
    "\n",
    "    Parameter\n",
    "    ---------\n",
    "    X_train = training data contains several features\n",
    "    X_test = testing data contains several features\n",
    "    y_train = train target\n",
    "    y_test = test target\n",
    "    \"\"\"\n",
    "    result = defaultdict(list)\n",
    "    \n",
    "    logreg = LogisticRegression()\n",
    "    dtc = DecisionTreeClassifier()\n",
    "    rf = RandomForestClassifier()\n",
    "  \n",
    "\n",
    "    list_model = [('Logistic Regression',logreg),\n",
    "                  ('Decision Tree',dtc),\n",
    "                  ('Random Forest',rf),\n",
    "                 ]\n",
    "    \n",
    "    for model_name,model in list_model:\n",
    "        start = dt.now()\n",
    "        model.fit(X_train,y_train)\n",
    "        duration = (dt.now()-start).total_seconds()\n",
    "        \n",
    "        y_pred = model.predict(X_test)\n",
    "        y_pred_proba = model.predict_proba(X_test)[:][:,1]\n",
    "        \n",
    "        df_actual_predicted = pd.concat([pd.DataFrame(np.array(y_test), columns=['y_actual']), pd.DataFrame(y_pred_proba, columns=['y_pred_proba'])], axis=1)\n",
    "        df_actual_predicted.index = y_test.index\n",
    "        \n",
    "        df_actual_predicted['Cumulative N Population'] = df_actual_predicted.index + 1\n",
    "        df_actual_predicted['Cumulative N Bad'] = df_actual_predicted['y_actual'].cumsum()\n",
    "        df_actual_predicted['Cumulative N Good'] = df_actual_predicted['Cumulative N Population'] - df_actual_predicted['Cumulative N Bad']\n",
    "        df_actual_predicted['Cumulative Perc Population'] = df_actual_predicted['Cumulative N Population'] / df_actual_predicted.shape[0]\n",
    "        df_actual_predicted['Cumulative Perc Bad'] = df_actual_predicted['Cumulative N Bad'] / df_actual_predicted['y_actual'].sum()\n",
    "        df_actual_predicted['Cumulative Perc Good'] = df_actual_predicted['Cumulative N Good'] / (df_actual_predicted.shape[0] - df_actual_predicted['y_actual'].sum())\n",
    "        \n",
    "        accuracy = accuracy_score(y_test,y_pred)\n",
    "        recall = recall_score(y_test,y_pred)\n",
    "        precision = precision_score(y_test,y_pred)\n",
    "        f_score = f1_score(y_test, y_pred)\n",
    "        fpr, tpr, tr = roc_curve(df_actual_predicted['y_actual'], df_actual_predicted['y_pred_proba'])\n",
    "        auc = roc_auc_score(df_actual_predicted['y_actual'], df_actual_predicted['y_pred_proba'])\n",
    "        kolsmir = max(df_actual_predicted['Cumulative Perc Good'] - df_actual_predicted['Cumulative Perc Bad'])/10\n",
    "        \n",
    "        \n",
    "        result['model_name'].append(model_name)\n",
    "        result['model'].append(model)\n",
    "        result['accuracy'].append(accuracy)\n",
    "        result['recall'].append(recall)\n",
    "        result['precision'].append(precision)\n",
    "        result['f1_score'].append(f_score)\n",
    "        result['AUC'].append(auc)\n",
    "        result['KS'].append(kolsmir)\n",
    "        result['duration'].append(duration)\n",
    "        \n",
    "    return result"
   ]
  },
  {
   "cell_type": "markdown",
   "id": "ac87d434-725d-4aa7-92a5-49fbba062ff0",
   "metadata": {},
   "source": [
    "## Evaluation"
   ]
  },
  {
   "cell_type": "code",
   "execution_count": 70,
   "id": "7138b943-e087-4f38-93d6-f29797bd536b",
   "metadata": {},
   "outputs": [],
   "source": [
    "result = evaluation(X_train,X_test,y_train,y_test)\n",
    "result = pd.DataFrame(result)"
   ]
  },
  {
   "cell_type": "code",
   "execution_count": 71,
   "id": "0dc82ad7-d5f7-41a3-9310-d532e74019cf",
   "metadata": {},
   "outputs": [
    {
     "data": {
      "text/html": [
       "<div>\n",
       "<style scoped>\n",
       "    .dataframe tbody tr th:only-of-type {\n",
       "        vertical-align: middle;\n",
       "    }\n",
       "\n",
       "    .dataframe tbody tr th {\n",
       "        vertical-align: top;\n",
       "    }\n",
       "\n",
       "    .dataframe thead th {\n",
       "        text-align: right;\n",
       "    }\n",
       "</style>\n",
       "<table border=\"1\" class=\"dataframe\">\n",
       "  <thead>\n",
       "    <tr style=\"text-align: right;\">\n",
       "      <th></th>\n",
       "      <th>model_name</th>\n",
       "      <th>model</th>\n",
       "      <th>accuracy</th>\n",
       "      <th>recall</th>\n",
       "      <th>precision</th>\n",
       "      <th>f1_score</th>\n",
       "      <th>AUC</th>\n",
       "      <th>KS</th>\n",
       "      <th>duration</th>\n",
       "    </tr>\n",
       "  </thead>\n",
       "  <tbody>\n",
       "    <tr>\n",
       "      <th>0</th>\n",
       "      <td>Logistic Regression</td>\n",
       "      <td>LogisticRegression()</td>\n",
       "      <td>0.939651</td>\n",
       "      <td>0.456232</td>\n",
       "      <td>0.981630</td>\n",
       "      <td>0.622940</td>\n",
       "      <td>0.855674</td>\n",
       "      <td>0.560615</td>\n",
       "      <td>14.514930</td>\n",
       "    </tr>\n",
       "    <tr>\n",
       "      <th>1</th>\n",
       "      <td>Decision Tree</td>\n",
       "      <td>DecisionTreeClassifier()</td>\n",
       "      <td>0.901970</td>\n",
       "      <td>0.580471</td>\n",
       "      <td>0.548600</td>\n",
       "      <td>0.564085</td>\n",
       "      <td>0.760940</td>\n",
       "      <td>0.560615</td>\n",
       "      <td>25.129174</td>\n",
       "    </tr>\n",
       "    <tr>\n",
       "      <th>2</th>\n",
       "      <td>Random Forest</td>\n",
       "      <td>(DecisionTreeClassifier(max_features='auto', r...</td>\n",
       "      <td>0.943575</td>\n",
       "      <td>0.486065</td>\n",
       "      <td>0.994978</td>\n",
       "      <td>0.653085</td>\n",
       "      <td>0.872313</td>\n",
       "      <td>0.560615</td>\n",
       "      <td>168.238154</td>\n",
       "    </tr>\n",
       "  </tbody>\n",
       "</table>\n",
       "</div>"
      ],
      "text/plain": [
       "            model_name                                              model  \\\n",
       "0  Logistic Regression                               LogisticRegression()   \n",
       "1        Decision Tree                           DecisionTreeClassifier()   \n",
       "2        Random Forest  (DecisionTreeClassifier(max_features='auto', r...   \n",
       "\n",
       "   accuracy    recall  precision  f1_score       AUC        KS    duration  \n",
       "0  0.939651  0.456232   0.981630  0.622940  0.855674  0.560615   14.514930  \n",
       "1  0.901970  0.580471   0.548600  0.564085  0.760940  0.560615   25.129174  \n",
       "2  0.943575  0.486065   0.994978  0.653085  0.872313  0.560615  168.238154  "
      ]
     },
     "execution_count": 71,
     "metadata": {},
     "output_type": "execute_result"
    }
   ],
   "source": [
    "result"
   ]
  },
  {
   "cell_type": "markdown",
   "id": "c4b55cb7-5538-4756-b6b6-cc089eb6fcd2",
   "metadata": {},
   "source": [
    "The built model produces good AUC and KS performance. In the world of credit risk modeling, generally AUC above 0.7 and KS above 0.3 are considered good performances."
   ]
  },
  {
   "cell_type": "markdown",
   "id": "a2f5158a-9577-4d63-9a71-5f5543522ba1",
   "metadata": {},
   "source": [
    "## Feature Importance"
   ]
  },
  {
   "cell_type": "code",
   "execution_count": 72,
   "id": "06817047-834e-4458-996d-170552a56796",
   "metadata": {},
   "outputs": [
    {
     "data": {
      "text/plain": [
       "RandomForestClassifier(max_depth=4)"
      ]
     },
     "execution_count": 72,
     "metadata": {},
     "output_type": "execute_result"
    }
   ],
   "source": [
    "rfc = RandomForestClassifier(max_depth=4)\n",
    "rfc.fit(X_train, y_train)"
   ]
  },
  {
   "cell_type": "code",
   "execution_count": 73,
   "id": "2c6e3d00-385f-49fa-8a28-b2afa8e3caad",
   "metadata": {},
   "outputs": [
    {
     "data": {
      "text/html": [
       "<div>\n",
       "<style scoped>\n",
       "    .dataframe tbody tr th:only-of-type {\n",
       "        vertical-align: middle;\n",
       "    }\n",
       "\n",
       "    .dataframe tbody tr th {\n",
       "        vertical-align: top;\n",
       "    }\n",
       "\n",
       "    .dataframe thead th {\n",
       "        text-align: right;\n",
       "    }\n",
       "</style>\n",
       "<table border=\"1\" class=\"dataframe\">\n",
       "  <thead>\n",
       "    <tr style=\"text-align: right;\">\n",
       "      <th></th>\n",
       "      <th>feature</th>\n",
       "      <th>importance</th>\n",
       "    </tr>\n",
       "  </thead>\n",
       "  <tbody>\n",
       "    <tr>\n",
       "      <th>92</th>\n",
       "      <td>recoveries</td>\n",
       "      <td>0.548392</td>\n",
       "    </tr>\n",
       "    <tr>\n",
       "      <th>90</th>\n",
       "      <td>out_prncp</td>\n",
       "      <td>0.158940</td>\n",
       "    </tr>\n",
       "    <tr>\n",
       "      <th>91</th>\n",
       "      <td>total_rec_late_fee</td>\n",
       "      <td>0.087351</td>\n",
       "    </tr>\n",
       "    <tr>\n",
       "      <th>78</th>\n",
       "      <td>int_rate</td>\n",
       "      <td>0.072509</td>\n",
       "    </tr>\n",
       "    <tr>\n",
       "      <th>98</th>\n",
       "      <td>mths_issue_d</td>\n",
       "      <td>0.022539</td>\n",
       "    </tr>\n",
       "    <tr>\n",
       "      <th>...</th>\n",
       "      <td>...</td>\n",
       "      <td>...</td>\n",
       "    </tr>\n",
       "    <tr>\n",
       "      <th>70</th>\n",
       "      <td>addr_state_VT</td>\n",
       "      <td>0.000000</td>\n",
       "    </tr>\n",
       "    <tr>\n",
       "      <th>38</th>\n",
       "      <td>addr_state_ID</td>\n",
       "      <td>0.000000</td>\n",
       "    </tr>\n",
       "    <tr>\n",
       "      <th>71</th>\n",
       "      <td>addr_state_WA</td>\n",
       "      <td>0.000000</td>\n",
       "    </tr>\n",
       "    <tr>\n",
       "      <th>74</th>\n",
       "      <td>addr_state_WY</td>\n",
       "      <td>0.000000</td>\n",
       "    </tr>\n",
       "    <tr>\n",
       "      <th>46</th>\n",
       "      <td>addr_state_ME</td>\n",
       "      <td>0.000000</td>\n",
       "    </tr>\n",
       "  </tbody>\n",
       "</table>\n",
       "<p>99 rows × 2 columns</p>\n",
       "</div>"
      ],
      "text/plain": [
       "               feature  importance\n",
       "92          recoveries    0.548392\n",
       "90           out_prncp    0.158940\n",
       "91  total_rec_late_fee    0.087351\n",
       "78            int_rate    0.072509\n",
       "98        mths_issue_d    0.022539\n",
       "..                 ...         ...\n",
       "70       addr_state_VT    0.000000\n",
       "38       addr_state_ID    0.000000\n",
       "71       addr_state_WA    0.000000\n",
       "74       addr_state_WY    0.000000\n",
       "46       addr_state_ME    0.000000\n",
       "\n",
       "[99 rows x 2 columns]"
      ]
     },
     "execution_count": 73,
     "metadata": {},
     "output_type": "execute_result"
    }
   ],
   "source": [
    "arr_feature_importances = rfc.feature_importances_\n",
    "arr_feature_names = X_train.columns.values\n",
    "    \n",
    "df_feature_importance = pd.DataFrame(index=range(len(arr_feature_importances)), columns=['feature', 'importance'])\n",
    "df_feature_importance['feature'] = arr_feature_names\n",
    "df_feature_importance['importance'] = arr_feature_importances\n",
    "df_all_features = df_feature_importance.sort_values(by='importance', ascending=False)\n",
    "df_all_features"
   ]
  },
  {
   "cell_type": "code",
   "execution_count": null,
   "id": "f4d01449-7628-4302-b04f-f9a840976a67",
   "metadata": {},
   "outputs": [],
   "source": []
  }
 ],
 "metadata": {
  "kernelspec": {
   "display_name": "Python 3 (ipykernel)",
   "language": "python",
   "name": "python3"
  },
  "language_info": {
   "codemirror_mode": {
    "name": "ipython",
    "version": 3
   },
   "file_extension": ".py",
   "mimetype": "text/x-python",
   "name": "python",
   "nbconvert_exporter": "python",
   "pygments_lexer": "ipython3",
   "version": "3.9.12"
  }
 },
 "nbformat": 4,
 "nbformat_minor": 5
}
